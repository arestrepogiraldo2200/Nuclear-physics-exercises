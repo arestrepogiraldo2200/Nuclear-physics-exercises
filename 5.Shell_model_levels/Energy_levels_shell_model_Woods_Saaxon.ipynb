{
 "cells": [
  {
   "cell_type": "markdown",
   "id": "8f6ca968",
   "metadata": {},
   "source": [
    "# Shell model single-particle energy levels\n",
    "\n",
    "Usign the mean field\n"
   ]
  },
  {
   "cell_type": "code",
   "execution_count": 16,
   "id": "ea600a30",
   "metadata": {},
   "outputs": [],
   "source": [
    "# Libraries\n",
    "\n",
    "import numpy as np\n",
    "import matplotlib.pyplot as plt\n",
    "import scipy as scp"
   ]
  },
  {
   "cell_type": "code",
   "execution_count": 17,
   "id": "9032343e",
   "metadata": {},
   "outputs": [],
   "source": [
    "# Constants\n",
    "\n",
    "hbar = 6.582119569*10**(-22)           # MeV*s\n",
    "c = 2.99792458*10**(8)*10**(15)        # fm/s\n",
    "m_p = 938.27/c**2                      # MeV*s²/fm²\n",
    "m_n = 939.57/c**2                      # MeV*s²/fm²\n",
    "\n",
    "def hbaromega(A):                          # Parameters: A mass number of nucleus\n",
    "    return 45*A**(-1/3) - 25*A**(-2/3) \n",
    "\n",
    "def b(m,A):                                # Parameters: m mass of nucleon, A mass number of nucleus\n",
    "    return hbar/np.sqrt(m*hbaromega(A))"
   ]
  },
  {
   "cell_type": "code",
   "execution_count": 18,
   "id": "42a7ed86",
   "metadata": {},
   "outputs": [],
   "source": [
    "# Terms of the hamiltonian\n",
    "\n",
    "def Kinetic(r, n, l, m, A):    # Parameters: r coordinate, n radial quantum number, l orbital angular momentum,\n",
    "                               #             m mass of nucleon, A mass number of nucleus\n",
    "    bv = b(m,A)\n",
    "    return hbar**2/(2*m)*((4*n+2*l+3)/bv**2 - r**2/bv**4)\n",
    "\n",
    "def Woods_Saxon(r, N, Z, part):           # Parameters: r coordinate, N number of neutrons, Z number of protons, \n",
    "                                          #             part = 0 for protons and 1 for neutrons\n",
    "    V0 = 51 + (-1)**part*(N-Z)/(N+Z)      # MeV\n",
    "    a = 0.67                              # fm\n",
    "    R = 1.27*(N+Z)**(1/3)                 # fm\n",
    "    \n",
    "    return (-V0)/(1 + np.exp((r-R)/a))\n",
    " \n",
    "def Coulomb(r, N, Z, part):                  # Parameters: r coordinate, Z number of protons,\n",
    "                                             #             part = 0 for protons and 1 for neutrons\n",
    "    R = 1.27*(N+Z)**(1/3)                    # fm\n",
    "    ep0 = 55.26349406*10**(-3)               # vacuum permittivity in e²/(MeV*fm)\n",
    "    fact = Z/(4*np.pi*ep0)\n",
    "    \n",
    "    if r <= R:\n",
    "        return (1-part)*fact*(3-(r/R)**2)/(2*R)\n",
    "    if r > R:\n",
    "        return (1-part)*fact*1/r  \n",
    "    \n",
    "def Spin_Orbit(r, N, Z, part, l, j):      # Parameters: r coordinate, N number of neutrons, Z number of protons,\n",
    "                                          #             part = 0 for protons and 1 for neutrons\n",
    "                                          #             l orbital angular momentum, j total angular momentum\n",
    "\n",
    "    V0 = 51 + (-1)**part*(N-Z)/(N+Z)      # MeV\n",
    "    a = 0.67                              # fm\n",
    "    R = 1.27*(N+Z)**(1/3)                 # fm\n",
    "    ang = 1/2*(j*(j+1) - l*(l+1) - 3/4)   \n",
    "    \n",
    "    return 0.44*V0*(1.27)**2*1/r*(-np.exp((r-R)/a)/(a*(1 + np.exp((r-R)/a))**2))*ang"
   ]
  },
  {
   "cell_type": "code",
   "execution_count": 46,
   "id": "0562c925",
   "metadata": {},
   "outputs": [],
   "source": [
    "# Harmonic oscillator radial wavefunction\n",
    "\n",
    "def psiHO(r, n, l, m, A):                 # Parameters: r coordinate, n radial quantum number\n",
    "                                          #             l orbital angular momentum,\n",
    "                                          #             m mass of nucleon, A mass number of nucleus\n",
    "    bv = b(m,A)\n",
    "    norm = np.sqrt(2*scp.special.factorial(n)/(bv**3*scp.special.gamma(n+l+3/2)))\n",
    "    return norm*(r/bv)**l*np.exp(-r**2/(2*bv**2))*scp.special.assoc_laguerre(r**2/bv**2, n, k = l+1/2)"
   ]
  },
  {
   "cell_type": "code",
   "execution_count": null,
   "id": "23dafe7e",
   "metadata": {},
   "outputs": [],
   "source": []
  },
  {
   "cell_type": "code",
   "execution_count": null,
   "id": "653abb98",
   "metadata": {},
   "outputs": [],
   "source": []
  },
  {
   "cell_type": "code",
   "execution_count": null,
   "id": "c8a71c48",
   "metadata": {},
   "outputs": [],
   "source": []
  },
  {
   "cell_type": "code",
   "execution_count": null,
   "id": "d7ec6ff4",
   "metadata": {},
   "outputs": [],
   "source": []
  },
  {
   "cell_type": "code",
   "execution_count": null,
   "id": "c13f0b08",
   "metadata": {},
   "outputs": [],
   "source": []
  },
  {
   "cell_type": "code",
   "execution_count": null,
   "id": "c3a36a00",
   "metadata": {},
   "outputs": [],
   "source": []
  },
  {
   "cell_type": "code",
   "execution_count": null,
   "id": "72c00908",
   "metadata": {},
   "outputs": [],
   "source": []
  },
  {
   "cell_type": "code",
   "execution_count": null,
   "id": "6e865dfb",
   "metadata": {},
   "outputs": [],
   "source": []
  },
  {
   "cell_type": "code",
   "execution_count": null,
   "id": "424567cd",
   "metadata": {},
   "outputs": [],
   "source": []
  },
  {
   "cell_type": "code",
   "execution_count": null,
   "id": "1d6a118e",
   "metadata": {},
   "outputs": [],
   "source": []
  },
  {
   "cell_type": "code",
   "execution_count": 56,
   "id": "8b46ce07",
   "metadata": {},
   "outputs": [],
   "source": [
    "def checkOrth(r,n1,l1,m,A,n2,l2):\n",
    "    bv = b(m,A)\n",
    "    norm1 = np.sqrt(2*scp.special.factorial(n1)/(bv**3*scp.special.gamma(n1+l1+3/2)))\n",
    "    f1 = norm1*(r/bv)**l1*np.exp(-r**2/(2*bv**2))*scp.special.assoc_laguerre(r**2/bv**2, n1, k = l1+1/2)\n",
    "\n",
    "    \n",
    "    norm2 = np.sqrt(2*scp.special.factorial(n2)/(bv**3*scp.special.gamma(n2+l2+3/2)))\n",
    "    f2 = norm2*(r/bv)**l2*np.exp(-r**2/(2*bv**2))*scp.special.assoc_laguerre(r**2/bv**2, n2, k = l2+1/2)\n",
    "    \n",
    "    return r**2*f1*f2"
   ]
  },
  {
   "cell_type": "code",
   "execution_count": 60,
   "id": "8fdd645c",
   "metadata": {},
   "outputs": [
    {
     "data": {
      "text/plain": [
       "(1.3444106938820255e-17, 2.006278504193795e-09)"
      ]
     },
     "execution_count": 60,
     "metadata": {},
     "output_type": "execute_result"
    }
   ],
   "source": [
    "import scipy.integrate as integrate\n",
    "integrate.quad(checkOrth, 0, 300, args=(0, 1, m_p, 238, 9,1))"
   ]
  },
  {
   "cell_type": "code",
   "execution_count": null,
   "id": "c7c7ce20",
   "metadata": {},
   "outputs": [],
   "source": []
  },
  {
   "cell_type": "code",
   "execution_count": null,
   "id": "c7073f52",
   "metadata": {},
   "outputs": [],
   "source": []
  },
  {
   "cell_type": "code",
   "execution_count": 47,
   "id": "213fbe78",
   "metadata": {},
   "outputs": [
    {
     "data": {
      "text/plain": [
       "[<matplotlib.lines.Line2D at 0x7fd43ac31100>]"
      ]
     },
     "execution_count": 47,
     "metadata": {},
     "output_type": "execute_result"
    },
    {
     "data": {
      "image/png": "[encoded data removed]",
      "text/plain": [
       "<Figure size 432x288 with 1 Axes>"
      ]
     },
     "metadata": {
      "needs_background": "light"
     },
     "output_type": "display_data"
    }
   ],
   "source": [
    "plt.plot(np.linspace(0.1,30,100),psiHO(np.linspace(0.1,30,100), 10, 4, m_p, 238))"
   ]
  },
  {
   "cell_type": "code",
   "execution_count": null,
   "id": "ab75b2ad",
   "metadata": {},
   "outputs": [],
   "source": []
  },
  {
   "cell_type": "code",
   "execution_count": null,
   "id": "566714bb",
   "metadata": {},
   "outputs": [],
   "source": []
  },
  {
   "cell_type": "code",
   "execution_count": null,
   "id": "15cb2d21",
   "metadata": {},
   "outputs": [],
   "source": []
  },
  {
   "cell_type": "code",
   "execution_count": null,
   "id": "fd3658f2",
   "metadata": {},
   "outputs": [],
   "source": []
  },
  {
   "cell_type": "code",
   "execution_count": 20,
   "id": "7bd10989",
   "metadata": {
    "scrolled": false
   },
   "outputs": [
    {
     "data": {
      "text/plain": [
       "[<matplotlib.lines.Line2D at 0x7fd3fc16dc70>]"
      ]
     },
     "execution_count": 20,
     "metadata": {},
     "output_type": "execute_result"
    },
    {
     "data": {
      "image/png": "[encoded data removed]",
      "text/plain": [
       "<Figure size 432x288 with 1 Axes>"
      ]
     },
     "metadata": {
      "needs_background": "light"
     },
     "output_type": "display_data"
    }
   ],
   "source": [
    "c = []\n",
    "r = np.linspace(0.1,30,100)\n",
    "\n",
    "for i in r:\n",
    "    \n",
    "    c.append(Coulomb(i,238-92,92,0))\n",
    "    \n",
    "plt.plot(r,c)"
   ]
  },
  {
   "cell_type": "code",
   "execution_count": 21,
   "id": "4275b6d9",
   "metadata": {},
   "outputs": [
    {
     "data": {
      "text/plain": [
       "[<matplotlib.lines.Line2D at 0x7fd3fa04dbb0>]"
      ]
     },
     "execution_count": 21,
     "metadata": {},
     "output_type": "execute_result"
    },
    {
     "data": {
      "image/png": "[encoded data removed]",
      "text/plain": [
       "<Figure size 432x288 with 1 Axes>"
      ]
     },
     "metadata": {
      "needs_background": "light"
     },
     "output_type": "display_data"
    }
   ],
   "source": [
    "plt.plot(np.linspace(0.1,30,100),Spin_Orbit(np.linspace(0.1,30,100),238-92,92,0,1,3/2))"
   ]
  },
  {
   "cell_type": "code",
   "execution_count": 22,
   "id": "dea255e7",
   "metadata": {},
   "outputs": [
    {
     "data": {
      "text/plain": [
       "[<matplotlib.lines.Line2D at 0x7fd3f9fbf040>]"
      ]
     },
     "execution_count": 22,
     "metadata": {},
     "output_type": "execute_result"
    },
    {
     "data": {
      "image/png": "[encoded data removed]",
      "text/plain": [
       "<Figure size 432x288 with 1 Axes>"
      ]
     },
     "metadata": {
      "needs_background": "light"
     },
     "output_type": "display_data"
    }
   ],
   "source": [
    "plt.plot(np.linspace(0.1,30,100),Woods_Saxon(np.linspace(0.1,30,100),238-92,92,0))"
   ]
  },
  {
   "cell_type": "code",
   "execution_count": 23,
   "id": "d0711d7c",
   "metadata": {},
   "outputs": [
    {
     "data": {
      "text/plain": [
       "[<matplotlib.lines.Line2D at 0x7fd3f9f9a910>]"
      ]
     },
     "execution_count": 23,
     "metadata": {},
     "output_type": "execute_result"
    },
    {
     "data": {
      "image/png": "[encoded data removed]",
      "text/plain": [
       "<Figure size 432x288 with 1 Axes>"
      ]
     },
     "metadata": {
      "needs_background": "light"
     },
     "output_type": "display_data"
    }
   ],
   "source": [
    "plt.plot(Kinetic(np.linspace(0.1,30,100), 0, 1, m_p, 238))"
   ]
  },
  {
   "cell_type": "code",
   "execution_count": 24,
   "id": "4b674a62",
   "metadata": {},
   "outputs": [
    {
     "data": {
      "text/plain": [
       "[<matplotlib.lines.Line2D at 0x7fd3f9efb7f0>]"
      ]
     },
     "execution_count": 24,
     "metadata": {},
     "output_type": "execute_result"
    },
    {
     "data": {
      "image/png": "[encoded data removed]",
      "text/plain": [
       "<Figure size 432x288 with 1 Axes>"
      ]
     },
     "metadata": {
      "needs_background": "light"
     },
     "output_type": "display_data"
    }
   ],
   "source": [
    "plt.plot(r,Kinetic(np.linspace(0.1,30,100), 1, 1, m_p, 238)+np.array(c)+Woods_Saxon(np.linspace(0.1,30,100),238-92,92,0)+Spin_Orbit(np.linspace(0.1,30,100),238-92,92,0,1,3/2))"
   ]
  },
  {
   "cell_type": "code",
   "execution_count": null,
   "id": "fd83a796",
   "metadata": {},
   "outputs": [],
   "source": []
  },
  {
   "cell_type": "code",
   "execution_count": null,
   "id": "0d39cc1f",
   "metadata": {},
   "outputs": [],
   "source": []
  },
  {
   "cell_type": "code",
   "execution_count": null,
   "id": "c94edd04",
   "metadata": {},
   "outputs": [],
   "source": []
  },
  {
   "cell_type": "code",
   "execution_count": null,
   "id": "efadcdb8",
   "metadata": {},
   "outputs": [],
   "source": []
  }
 ],
 "metadata": {
  "kernelspec": {
   "display_name": "Python 3 (ipykernel)",
   "language": "python",
   "name": "python3"
  },
  "language_info": {
   "codemirror_mode": {
    "name": "ipython",
    "version": 3
   },
   "file_extension": ".py",
   "mimetype": "text/x-python",
   "name": "python",
   "nbconvert_exporter": "python",
   "pygments_lexer": "ipython3",
   "version": "3.9.12"
  }
 },
 "nbformat": 4,
 "nbformat_minor": 5
}
