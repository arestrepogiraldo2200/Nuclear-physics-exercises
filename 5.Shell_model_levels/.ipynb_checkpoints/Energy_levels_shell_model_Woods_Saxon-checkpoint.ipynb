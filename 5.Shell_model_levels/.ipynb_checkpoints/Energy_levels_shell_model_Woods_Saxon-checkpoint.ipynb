{
 "cells": [
  {
   "cell_type": "markdown",
   "id": "8f6ca968",
   "metadata": {},
   "source": [
    "# Phenomenological shell model with Woods-Saxon potential\n",
    "\n",
    "The total nuclear Hamiltonian is\n",
    "\n",
    "$$H = \\sum_{i=1}^A -\\frac{\\hbar^2}{2m}\\nabla_i^2 + \\sum_{i<j}V(\\textbf{r}_i,\\textbf{r}_j)$$\n",
    "\n",
    "which can be rewritten using a single-particel mean field as \n",
    "\n",
    "$$H = \\left[\\sum_{i=1}^A -\\frac{\\hbar^2}{2m}\\nabla_i^2 + \\sum_{i=1}^A v(\\textbf{r}_i)\\right]+ \\left[\\sum_{i<j}V(\\textbf{r}_i,\\textbf{r}_j)-\\sum_{i=1}^A v(\\textbf{r}_i)\\right]$$\n",
    "\n",
    "$$= \\sum_{i=1}^A h_{MF}(\\textbf{r}_i) + V_{RES}$$\n",
    "\n",
    "\n",
    "$$= H_{MF} + V_{RES}$$\n",
    "\n",
    "where $V_{RES}$ is the residual interaction. The mean field potential $v(\\textbf{r}_i)$ can be thought as a time average and most of the nucleon–nucleon interaction is included in it. The main assumption is that the nucleons behave independently without any (quantum) correlations and thus the total wavefunction can be expressed as a product\n",
    "\n",
    "$$\\Psi(\\textbf{r}_1, ..., \\textbf{r}_A) = \\prod_{i=1}^A\\phi_{\\alpha_i}(\\textbf{r}_i)$$\n",
    "\n",
    "or antisymmetrized product\n",
    "\n",
    "$$\\Psi(\\textbf{r}_1, ..., \\textbf{r}_A) = \\mathcal{A}\\left[\\prod_{i=1}^A\\phi_{\\alpha_i}(\\textbf{r}_i)\\right]$$\n",
    "\n",
    "where each $\\phi_{\\alpha_i}(\\textbf{r}_i)$ is the single particle wavefucntion and $\\alpha_i$ represents the quantum numbers of the system. This implies that considering only $H_{MF}$, the many body system can be separated into many single particle systems solved by the $A$ stationary Schrödinger equations\n",
    "\n",
    "$$h_{MF}(\\textbf{r}_i)\\phi_{\\alpha_i}(\\textbf{r}_i) = E_{\\alpha_i}\\phi_{\\alpha_i}(\\textbf{r}_i)$$\n",
    "\n",
    "Ignoring the self-consistency of the potential, i.e, the influence of the wavefunctions on the form of $v(\\textbf{r}_i)$, one can then propose a phenomenological Woods-Saxon spherical potential\n",
    "\n",
    "$$v_{WS}(r) =  -\\frac{V_0}{1+e^{\\frac{r-R}{a}}}$$\n",
    "\n",
    "along with Coulomb and spin-orbit interaction\n",
    "\n",
    "$$v_C(r) = \\frac{Ze^2}{4\\pi\\epsilon_0}\\begin{cases}\n",
    "       \\frac{3-(r/R)^2}{2R}, \\hspace{5mm}r\\leq R\\\\\n",
    "       \\frac{1}{r}, \\hspace{15mm}r>R\\\\\n",
    "     \\end{cases}$$\n",
    "\n",
    "$$v_{SL}(r) = \\frac{0.44V_0r_0^2}{r}\\frac{d}{dr}\\left[\\frac{1}{1+e^{\\frac{r-R}{a}}}\\right]\\textbf{L}\\cdot\\textbf{S}$$\n",
    "\n",
    "Thus, in spherical coordinates the angular wavefunctions are $Y_{lm_l}(\\theta,\\phi)$, the spin are $\\chi_{\\frac{1}{2}m_s}$ and the radial must be obtained by solving\n",
    "\n",
    "$$h_{MF}(r)\\phi_{nl\\frac{1}{2}jm}(r)=\\left[-\\frac{\\hbar^2}{2m}\\left[\\frac{1}{r^2}\\frac{d}{dr}\\left(r^2\\frac{d}{dr}\\right) - \\frac{l(l+1)}{r^2}\\right] + v_{WS}(r) + v_C(r) + \\frac{0.44V_0r_0^2}{r}\\frac{d}{dr}\\left[\\frac{1}{1+e^{\\frac{r-R}{a}}}\\right]\\frac{j(j+1)-l(l+1)-3/4}{2}\\right]\\phi_{nl\\frac{1}{2}jm}(r) = E_{nl\\frac{1}{2}j}\\phi_{nl\\frac{1}{2}jm}(r)$$\n",
    "\n",
    "This can be solved by numerical methods but in this notebook another approach is implemented which is explained below. The radial wavefunctions of the harmonic oscillator (H.O.) potential\n",
    "\n",
    "$$g_{nl}(r) = \\sqrt{\\frac{2n!}{b^3\\Gamma(n+l+3/2)}}\\left(\\frac{r}{b}\\right)^le^{-\\frac{r^2}{2b^2}}L_{n}^{(l+1/2)}\\left(\\frac{r^2}{b^2}\\right)$$\n",
    "\n",
    "with hamiltonian and eigenvalues\n",
    "\n",
    "$$\\left[-\\frac{\\hbar^2}{2m}\\left[\\frac{1}{r^2}\\frac{d}{dr}\\left(r^2\\frac{d}{dr}\\right) - \\frac{l(l+1)}{r^2}\\right] + \\frac{1}{2}m\\omega r^2-V_0\\right]g_{nl}(r) = E_{nl}g_{nl}(r)$$\n",
    "\n",
    "$$E_{nl} = \\left(2n+l+\\frac{3}{2}\\right)\\hbar\\omega - V_0$$\n",
    "\n",
    "$$n=0,1,2,3,4,...$$\n",
    "\n",
    "are well known and expand the space. Thus, in theory it is possible the expansion\n",
    "\n",
    "$$\\phi_{nl\\frac{1}{2}jm}(r) = \\sum_{n'}S_{nn'}^{(l\\frac{1}{2}jm)} g_{n'l}(r)$$\n",
    "\n",
    "where $S_{nn'}^{(l\\frac{1}{2}jm)}$ are the components of the change of basis matrix. Then \n",
    "\n",
    "$$h_{MF}(r)\\phi_{nl\\frac{1}{2}jm}(r) = \\sum_{n'}S_{nn'}^{(l\\frac{1}{2}jm)}h_{MF}(r)g_{n'l}(r) = E_{nl\\frac{1}{2}j}\\sum_{n'}S_{nn'}^{(l\\frac{1}{2}jm)}g_{n'l}(r)$$\n",
    "\n",
    "multiplying by $r^2 g^*_{n''l}(r)$ and integrating from 0 to $\\infty$ one obtains\n",
    "\n",
    "$$\\sum_{n'}S_{nn'}^{(l\\frac{1}{2}jm)} \\int_0^{\\infty}r^2 g^*_{n''l}(r)h_{MF}(r)g_{n'l}(r) dr = \\sum_{n'}E_{nl\\frac{1}{2}j}S_{nn'}^{(l\\frac{1}{2}jm)}\\int_0^{\\infty}r^2 g^*_{n''l}(r)g_{n'l}(r)$$\n",
    "\n",
    "$$\\sum_{n'}S_{nn'}^{(l\\frac{1}{2}jm)} \\langle n''l\\left|h_{MF}(r)\\right|n'l\\rangle = \\sum_{n'}E_{nl\\frac{1}{2}j}S_{nn'}^{(l\\frac{1}{2}jm)}\\delta_{n''n'}$$\n",
    "\n",
    "$$\\textbf{S}\\textbf{h} = \\textbf{E}\\textbf{S}$$\n",
    "\n",
    "$$\\textbf{S}\\textbf{h}\\textbf{S}^{-1} = \\textbf{E}$$\n",
    "\n",
    "Thus, the task is to calculate matrix elements $\\langle n''l\\left|h_{MF}(r)\\right|n'l\\rangle$ of $\\textbf{h}$ up to some $n'$, diagonalize it to obtain $\\textbf{E}$ and $\\textbf{S}$. This way, the energy values $E_{nl\\frac{1}{2}j}$ and radial wavefunctions $\\phi_{nl\\frac{1}{2}jm}(r)$ are obtained approximately."
   ]
  },
  {
   "cell_type": "code",
   "execution_count": 1,
   "id": "ea600a30",
   "metadata": {},
   "outputs": [],
   "source": [
    "# Libraries\n",
    "\n",
    "import numpy as np\n",
    "import matplotlib.pyplot as plt\n",
    "import scipy as scp\n",
    "import sympy"
   ]
  },
  {
   "cell_type": "markdown",
   "id": "ffa1ed6e",
   "metadata": {},
   "source": [
    "## Hamiltonian and H.O. radial wavefunctions"
   ]
  },
  {
   "cell_type": "code",
   "execution_count": 2,
   "id": "9032343e",
   "metadata": {},
   "outputs": [],
   "source": [
    "# Constants\n",
    "\n",
    "hbar = 6.582119569*10**(-22)           # MeV*s\n",
    "c = 2.99792458*10**(8)*10**(15)        # fm/s\n",
    "m_p = 938.27/c**2                      # MeV*s²/fm²\n",
    "m_n = 939.57/c**2                      # MeV*s²/fm²\n",
    "\n",
    "def hbaromega(A):                          # Parameters: A mass number of nucleus\n",
    "    return 45*A**(-1/3) - 25*A**(-2/3) \n",
    "\n",
    "def b(m,A):                                # Parameters: m mass of nucleon, A mass number of nucleus\n",
    "    return hbar/np.sqrt(m*hbaromega(A))"
   ]
  },
  {
   "cell_type": "code",
   "execution_count": 3,
   "id": "42a7ed86",
   "metadata": {},
   "outputs": [],
   "source": [
    "# Terms of the hamiltonian\n",
    "\n",
    "def Kinetic(r, n, l, m, A):    # Parameters: r coordinate, n radial quantum number, l orbital angular momentum,\n",
    "                               #             m mass of nucleon, A mass number of nucleus\n",
    "    bv = b(m,A)\n",
    "    return hbar**2/(2*m)*((4*n+2*l+3)/bv**2 - r**2/bv**4)\n",
    "\n",
    "def Woods_Saxon(r, N, Z, part):           # Parameters: r coordinate, N number of neutrons, Z number of protons, \n",
    "                                          #             part = 0 for protons and 1 for neutrons\n",
    "    V0 = 51 + (-1)**part*(N-Z)/(N+Z)      # MeV\n",
    "    a = 0.67                              # fm\n",
    "    R = 1.27*(N+Z)**(1/3)                 # fm\n",
    "    \n",
    "    return (-V0)/(1 + np.exp((abs(r)-R)/a))\n",
    " \n",
    "def Coulomb(r, N, Z, part):                  # Parameters: r coordinate, Z number of protons,\n",
    "                                             #             part = 0 for protons and 1 for neutrons\n",
    "    R = 1.27*(N+Z)**(1/3)                    # fm\n",
    "    ep0 = 55.26349406*10**(-3)               # vacuum permittivity in e²/(MeV*fm)\n",
    "    fact = Z/(4*np.pi*ep0)\n",
    "    C = []\n",
    "    \n",
    "    try:\n",
    "        for i in r:\n",
    "            if i <= R:\n",
    "                C.append((1-part)*fact*(3-(i/R)**2)/(2*R))\n",
    "            if i > R:\n",
    "                 C.append((1-part)*fact*1/i)\n",
    "        return C\n",
    "        \n",
    "    except: \n",
    "            if r <= R:\n",
    "                return (1-part)*fact*(3-(r/R)**2)/(2*R)\n",
    "            if r > R:\n",
    "                return (1-part)*fact*1/r\n",
    "        \n",
    "        \n",
    "def Spin_Orbit(r, N, Z, part, l, j):      # Parameters: r coordinate, N number of neutrons, Z number of protons,\n",
    "                                          #             part = 0 for protons and 1 for neutrons\n",
    "                                          #             l orbital angular momentum, j total angular momentum\n",
    "\n",
    "    V0 = 51 + (-1)**part*(N-Z)/(N+Z)      # MeV\n",
    "    a = 0.67                              # fm\n",
    "    R = 1.27*(N+Z)**(1/3)                 # fm\n",
    "    ang = 1/2*(j*(j+1) - l*(l+1) - 3/4)   \n",
    "    \n",
    "    return 0.44*V0*(1.27)**2*1/r*(-np.exp((r-R)/a)/(a*(1 + np.exp((r-R)/a))**2))*ang\n",
    "\n",
    "def Hamiltonian(r,n,l,j,m,N,Z,part):      # Parameters: r coordinate, n radial quantum number, \n",
    "                                          #             l orbital angular momentum, N number of neutrons,\n",
    "                                          #             Z number of protons, part = 0 for proton and 1 for neutron\n",
    "                                          #             j total angular momentum\n",
    "\n",
    "    return Kinetic(r,n,l,m,N+Z) + Woods_Saxon(r,N,Z,part) + Coulomb(r,N,Z,part) + Spin_Orbit(r,N,Z,part,l,j)    "
   ]
  },
  {
   "cell_type": "code",
   "execution_count": 4,
   "id": "0562c925",
   "metadata": {},
   "outputs": [],
   "source": [
    "# Harmonic oscillator radial wavefunction\n",
    "\n",
    "def psiHO(r, n, l, m, A):                 # Parameters: r coordinate, n radial quantum number\n",
    "                                          #             l orbital angular momentum,\n",
    "                                          #             m mass of nucleon, A mass number of nucleus\n",
    "    bv = b(m,A)\n",
    "    norm = np.sqrt(2*scp.special.factorial(n)/(bv**3*scp.special.gamma(n+l+3/2)))\n",
    "    return norm*(r/bv)**l*np.exp(-r**2/(2*bv**2))*scp.special.assoc_laguerre(r**2/bv**2, n, k = l+1/2)"
   ]
  },
  {
   "cell_type": "markdown",
   "id": "126d9288",
   "metadata": {},
   "source": [
    "## Examples of potentials and wavefunctions"
   ]
  },
  {
   "cell_type": "code",
   "execution_count": 5,
   "id": "23dafe7e",
   "metadata": {},
   "outputs": [
    {
     "name": "stdout",
     "output_type": "stream",
     "text": [
      "Two examples for proton radial wavefunctions of ²³⁸U:\n",
      "<n=0, l=1|n=1, l=1> =  2.0816681711721685e-17\n",
      "<n=0, l=1|n=0, l=1> =  1.0000000000000016\n"
     ]
    }
   ],
   "source": [
    "# Function to check orthonormality of harmonic oscillator radial wavefunctions\n",
    "\n",
    "def checkOrth(r,n1,l1,m,A,n2,l2):         # Parameters: r coordinate, n1, n2 radial quantum numbers\n",
    "                                          #             l1, l2 orbital angular momentum,\n",
    "                                          #             m mass of nucleon, A mass number of nucleus\n",
    "    f1 = psiHO(r, n1, l1, m, A)\n",
    "    f2 = psiHO(r, n2, l2, m, A)\n",
    "    return r**2*f1*f2\n",
    "\n",
    "print(\"Two examples for proton radial wavefunctions of ²³⁸U:\")\n",
    "print(\"<n=0, l=1|n=1, l=1> = \",scp.integrate.quad(checkOrth, 0, np.infty, args=(0,1, m_p,238,2,1))[0])\n",
    "print(\"<n=0, l=1|n=0, l=1> = \",scp.integrate.quad(checkOrth, 0, np.infty, args=(0,1, m_p,238,0,1))[0])"
   ]
  },
  {
   "cell_type": "code",
   "execution_count": 6,
   "id": "213fbe78",
   "metadata": {},
   "outputs": [
    {
     "data": {
      "image/png": "[encoded data removed]",
      "text/plain": [
       "<Figure size 432x288 with 1 Axes>"
      ]
     },
     "metadata": {
      "needs_background": "light"
     },
     "output_type": "display_data"
    }
   ],
   "source": [
    "# Example wavefunction\n",
    "\n",
    "plt.plot(np.linspace(0.1,30,200),psiHO(np.linspace(0.1,30,200), 4, 2, m_p, 238))\n",
    "plt.suptitle(\"Radial wavefunction of n=4, l=2 for ²³⁸U proton\")\n",
    "plt.xlabel(\"r [fm]\")\n",
    "plt.ylabel(\"$g_{nl}(r)$\")\n",
    "plt.show()"
   ]
  },
  {
   "cell_type": "code",
   "execution_count": 7,
   "id": "a6aa1542",
   "metadata": {},
   "outputs": [
    {
     "data": {
      "image/png": "[encoded data removed]",
      "text/plain": [
       "<Figure size 432x288 with 1 Axes>"
      ]
     },
     "metadata": {
      "needs_background": "light"
     },
     "output_type": "display_data"
    }
   ],
   "source": [
    "# Woods-Saxon potential\n",
    "\n",
    "plt.plot(np.linspace(0.1,30,100),Woods_Saxon(np.linspace(0.1,30,100),238-92,92,0))\n",
    "plt.suptitle(\"Woods-Saxon potential for ²³⁸U\")\n",
    "plt.xlabel(\"r [fm]\")\n",
    "plt.ylabel(\"$V_{WS}(r)$\")\n",
    "plt.show()"
   ]
  },
  {
   "cell_type": "code",
   "execution_count": 8,
   "id": "ab75b2ad",
   "metadata": {},
   "outputs": [
    {
     "data": {
      "image/png": "[encoded data removed]",
      "text/plain": [
       "<Figure size 432x288 with 1 Axes>"
      ]
     },
     "metadata": {
      "needs_background": "light"
     },
     "output_type": "display_data"
    }
   ],
   "source": [
    "# Coulomb potential\n",
    "\n",
    "plt.plot(np.linspace(0.1,30,100),Coulomb(np.linspace(0.1,30,100),238-92,92,0))\n",
    "plt.suptitle(\"Coulomb potential for a uniformly charged spherical ²³⁸U nucleus\")\n",
    "plt.xlabel(\"r [fm]\")\n",
    "plt.ylabel(\"$V_{C}(r)$\")\n",
    "plt.show()"
   ]
  },
  {
   "cell_type": "code",
   "execution_count": 9,
   "id": "4275b6d9",
   "metadata": {},
   "outputs": [
    {
     "data": {
      "image/png": "[encoded data removed]",
      "text/plain": [
       "<Figure size 432x288 with 1 Axes>"
      ]
     },
     "metadata": {
      "needs_background": "light"
     },
     "output_type": "display_data"
    }
   ],
   "source": [
    "# Spin orbit potential\n",
    "\n",
    "plt.plot(np.linspace(0.1,30,200),Spin_Orbit(np.linspace(0.1,30,200),238-92,92,0,2,5/2))\n",
    "plt.suptitle(\"Spin-Orbit potential for a ²³⁸U proton in orbital $l$ = 2 and $j$ = 3/2\")\n",
    "plt.xlabel(\"r [fm]\")\n",
    "plt.ylabel(\"$V_{SL}(r)$\")\n",
    "plt.show()"
   ]
  },
  {
   "cell_type": "code",
   "execution_count": 10,
   "id": "fd83a796",
   "metadata": {},
   "outputs": [
    {
     "data": {
      "image/png": "[encoded data removed]",
      "text/plain": [
       "<Figure size 432x288 with 1 Axes>"
      ]
     },
     "metadata": {
      "needs_background": "light"
     },
     "output_type": "display_data"
    }
   ],
   "source": [
    "# Complete potential\n",
    "\n",
    "plt.plot(np.linspace(-0.1,-30,100),Woods_Saxon(np.linspace(0.1,30,100),238-92,92,0) + Coulomb(np.linspace(0.1,30,100),238-92,92,0) + Spin_Orbit(np.linspace(0.1,30,100),238-92,92,0,2,5/2), label=\"$\\pi$\")\n",
    "plt.plot(np.linspace(0.1,30,100),Woods_Saxon(np.linspace(0.1,30,100),238-92,92,1) + Spin_Orbit(np.linspace(0.1,30,100),238-92,92,1,2,5/2), label=\"$ν$\")\n",
    "plt.vlines(0,-60,20,color='gray',alpha=0.3)\n",
    "plt.hlines(0,-30,30,color='gray',alpha=0.3)\n",
    "plt.ylim(-55,20)\n",
    "plt.xlim(-30,30)\n",
    "plt.suptitle(\"Total potential for a ²³⁸U protons and neutrons in orbital $l$ = 2 and $j$ = 3/2\")\n",
    "plt.xlabel(\"r [fm]\")\n",
    "plt.ylabel(\"$V_{WS}(r) + V_{C}(r) + V_{SL}(r)$\")\n",
    "plt.legend()\n",
    "plt.show()"
   ]
  },
  {
   "cell_type": "markdown",
   "id": "b1bc1bed",
   "metadata": {},
   "source": [
    "## Matrix elements"
   ]
  },
  {
   "cell_type": "code",
   "execution_count": 11,
   "id": "74ddbd22",
   "metadata": {},
   "outputs": [],
   "source": [
    "# Function to compute matrix elements\n",
    "\n",
    "def Integrand(r,n1,n2,l,j,m,N,Z,part):           # Parameters: r coordinate, n1, n2 radial quantum numbers, \n",
    "                                                 #             l orbital angular momentum, N number of neutrons,\n",
    "                                                 #             Z number of protons, part = 0 for proton and \n",
    "                                                 #             1 for neutron, j total angular momentum\n",
    "    f1 = psiHO(r, n1, l, m, Z+N)\n",
    "    f2 = psiHO(r, n2, l, m, Z+N)\n",
    "    h = Hamiltonian(r,n2,l,j,m,N,Z,part)\n",
    "    \n",
    "    return r**2*f1*f2*h\n",
    "\n",
    "def MatrixElement(n1,n2,l,j,m,N,Z,part):\n",
    "    \n",
    "    return scp.integrate.quad(Integrand, 0, 200, args=(n1,n2,l,j,m,N,Z,part))[0]   # Integral up to 200fm"
   ]
  },
  {
   "cell_type": "code",
   "execution_count": 12,
   "id": "f2c90e43",
   "metadata": {},
   "outputs": [
    {
     "data": {
      "image/png": "[encoded data removed]",
      "text/plain": [
       "<Figure size 432x288 with 1 Axes>"
      ]
     },
     "metadata": {
      "needs_background": "light"
     },
     "output_type": "display_data"
    },
    {
     "name": "stdout",
     "output_type": "stream",
     "text": [
      "<1,1|h|2,1> =  4.286399804994014\n"
     ]
    }
   ],
   "source": [
    "# Example of integrand of <1,1|h|2,1>\n",
    "\n",
    "plt.plot(np.linspace(0.1,30,200),Integrand(np.linspace(0.1,30,200),1,2,1,3/2,m_p,238-92,92,0))\n",
    "plt.suptitle(\"Integrand of <1,1|h|2,1> for a ²³⁸U proton\")\n",
    "plt.xlabel(\"r [fm]\")\n",
    "plt.ylabel(\"$r²g_{11}(r)g_{21}(r)$\")\n",
    "plt.show()\n",
    "\n",
    "print(\"<1,1|h|2,1> = \",MatrixElement(1,2,1,3/2,m_p,238-92,92,0))"
   ]
  },
  {
   "cell_type": "code",
   "execution_count": 13,
   "id": "6506834b",
   "metadata": {},
   "outputs": [],
   "source": [
    "# Function to compute energy eigenvalues and expansion coefficients\n",
    "\n",
    "def levels(N, Z, size):                  # Parameters: N number of neutrons, Z number of protons\n",
    "                                         #             size expansion up to the size^th term\n",
    "        \n",
    "    E = []                                                                   # Energy eigenvalues list\n",
    "    \n",
    "    for l in range(0,8):                                                      # l = s,p,d,f,g,h,i,j\n",
    "                                                                              # Paralell coupling \n",
    "        globals()['M{0}{1}_{2}'.format(l,'par','p')] = np.zeros((size,size))  # Proton \n",
    "        globals()['M{0}{1}_{2}'.format(l,'par','n')] = np.zeros((size,size))  # Neutron\n",
    "\n",
    "        for n1 in range(0, size):                                             # Values inserted \n",
    "            for n2 in range(0, size):       \n",
    "                globals()['M{0}{1}_{2}'.format(l,'par','p')][n1][n2] = MatrixElement(n1,n2,l,l+1/2,m_p,N,Z,0)\n",
    "                globals()['M{0}{1}_{2}'.format(l,'par','n')][n1][n2] = MatrixElement(n1,n2,l,l+1/2,m_n,N,Z,1)\n",
    "                \n",
    "                                                                              # Calculation of diagonal matrix\n",
    "                                                                              # and change of basis matrix\n",
    "        globals()['N{3}_Z{4}P{0}{1}_{2}'.format(l,'par','p',N,Z)], globals()['D{0}{1}_{2}'.format(l,'par','p')] = sympy.Matrix(globals()['M{0}{1}_{2}'.format(l,'par','p')]).diagonalize()\n",
    "        globals()['N{3}_Z{4}P{0}{1}_{2}'.format(l,'par','n',N,Z)], globals()['D{0}{1}_{2}'.format(l,'par','n')] = sympy.Matrix(globals()['M{0}{1}_{2}'.format(l,'par','n')]).diagonalize()\n",
    "\n",
    "        del globals()['M{0}{1}_{2}'.format(l,'par','p')]                      # Release of memory\n",
    "        del globals()['M{0}{1}_{2}'.format(l,'par','n')]\n",
    "        \n",
    "        if l == 0:\n",
    "            continue\n",
    "                                                                              # Anti-paralell coupling \n",
    "        globals()['M{0}{1}_{2}'.format(l,'ant','p')] = np.zeros((size,size))  # Proton\n",
    "        globals()['M{0}{1}_{2}'.format(l,'ant','n')] = np.zeros((size,size))  # Neutron\n",
    "            \n",
    "        for n1 in range(0, size):                                             # Values inserted \n",
    "            for n2 in range(0, size):       \n",
    "                globals()['M{0}{1}_{2}'.format(l,'ant','p')][n1][n2] = MatrixElement(n1,n2,l,l-1/2,m_p,N,Z,0)\n",
    "                globals()['M{0}{1}_{2}'.format(l,'ant','n')][n1][n2] = MatrixElement(n1,n2,l,l-1/2,m_n,N,Z,1)\n",
    "                \n",
    "                \n",
    "                                                                              # Calculation of diagonal matrix\n",
    "                                                                              # and change of basis matrix\n",
    "        globals()['N{3}_Z{4}P{0}{1}_{2}'.format(l,'ant','p',N,Z)], globals()['D{0}{1}_{2}'.format(l,'ant','p')] = sympy.Matrix(globals()['M{0}{1}_{2}'.format(l,'ant','p')]).diagonalize()\n",
    "        globals()['N{3}_Z{4}P{0}{1}_{2}'.format(l,'ant','n',N,Z)], globals()['D{0}{1}_{2}'.format(l,'ant','n')] = sympy.Matrix(globals()['M{0}{1}_{2}'.format(l,'ant','n')]).diagonalize()\n",
    "\n",
    "        del globals()['M{0}{1}_{2}'.format(l,'ant','p')]                      # Release of memory\n",
    "        del globals()['M{0}{1}_{2}'.format(l,'ant','n')]\n",
    "        \n",
    "    for part in ['p','n']:                                                    # Extraction of eigenvalues\n",
    "        for dire in ['par', 'ant']:                                           # Format: [(neutron or proton, l , parallel or antiparallel l-s coupling), [Eigenvalues list]]\n",
    "            for l in range(0,8):\n",
    "                \n",
    "                if l == 0 and dire == 'ant':\n",
    "                    continue\n",
    "                \n",
    "                diag = []\n",
    "                for i in range(size):\n",
    "                    diag.append(float(globals()['D{0}{1}_{2}'.format(l,dire,part)][i,i]))\n",
    "\n",
    "                E.append([(part,l,dire),diag])        \n",
    "                del globals()['D{0}{1}_{2}'.format(l,dire,part)]                      # Release of memory        \n",
    "    return E"
   ]
  },
  {
   "cell_type": "code",
   "execution_count": 14,
   "id": "cd97f4f3",
   "metadata": {},
   "outputs": [],
   "source": [
    "# Function to print the expansion of a particular state\n",
    "\n",
    "def printExpansion(n,l,j,part,N,Z):               # Parameters: n radial quantum number, l orbital angular momentum\n",
    "                                                  #             j total angular momentum, part = \"p\" or \"n\"\n",
    "                                                  #             N number of neutrons, Z number of protons    \n",
    "    if j == l+1/2:\n",
    "        dire = 'par'\n",
    "    if j == l-1/2:\n",
    "        dire = 'ant'\n",
    "    \n",
    "    coeffs = globals()['N{3}_Z{4}P{0}{1}_{2}'.format(l, dire, part, N, Z)].col(n)\n",
    "    \n",
    "    print(\"|\",n,\",\",l,\",\",j,\"> = \",end = '')\n",
    "    \n",
    "    for i in range(0,len(coeffs)):\n",
    "        print(\"  +  \",round(float(coeffs[i]),4),\"|\",i,\",\",l,\">  \",end = '')"
   ]
  },
  {
   "cell_type": "code",
   "execution_count": 15,
   "id": "8aed3c84",
   "metadata": {},
   "outputs": [],
   "source": [
    "# Function to plot the bounded states\n",
    "\n",
    "def plotBoundedStates(N,Z):                       # Parameters: N number of neutrons, Z number of protons\n",
    "    \n",
    "    Levels = levels(N, Z, 15)                                                 # Expansion size fixed\n",
    "    R = 1.27*(N+Z)**(1/3)\n",
    "    \n",
    "    fig = plt.figure(figsize=(15,12))\n",
    "                                                                              # Potentials\n",
    "    PotP = Woods_Saxon(np.linspace(0,R+15,200),N,Z,0) + Coulomb(np.linspace(0,R+15,200),N,Z,0)\n",
    "    PotN = Woods_Saxon(np.linspace(0,R+15,200),N,Z,1)\n",
    "    \n",
    "    plt.plot(np.linspace(-0,-R-15,200), PotP, label=\"$\\pi$\", color=\"r\", alpha=0.5)       # Plot of potentials\n",
    "    plt.plot(np.linspace(0.1,R+15,200), PotN, label=\"$ν$\", color=\"b\", alpha=0.5)\n",
    "    \n",
    "    spectr = [\"s\",\"p\",\"d\",\"f\",\"g\",\"h\",\"i\",\"j\"]                                # Spectroscopic notation\n",
    "\n",
    "    for Level in Levels:                                                      # Extraction of energy levels \n",
    "        \n",
    "        f = 1\n",
    "        c = 'b'\n",
    "        j = int(2*Level[0][1]+1)\n",
    "        \n",
    "        if Level[0][0] == 'p':\n",
    "            f = -1\n",
    "            c = 'r' \n",
    "        if Level[0][2] == \"ant\":\n",
    "            j = int(2*Level[0][1]-1)\n",
    "            \n",
    "        for i in range(0,len(Level[1])):            \n",
    "            if Level[1][i]<0:\n",
    "                plt.hlines(Level[1][i],f*0.2,f*0.8*R,color=c)\n",
    "                plt.text(f*(R+0.2)+f*0.1,Level[1][i],'{0}{1}{2}/2'.format(i,spectr[Level[0][1]],j))\n",
    "                print('{3}\\t\\t{0}{1}{2}/2'.format(i,spectr[Level[0][1]],j,Level[0][0]),\"\\t\\t\", Level[1][i])\n",
    "     \n",
    "    plt.vlines(0,-60,20,color='gray',alpha=0.5)                               # Format of plot\n",
    "    plt.hlines(0,-R-15,R+15,color='gray',alpha=0.5)\n",
    "    plt.ylim(PotN.min()-3,PotP.max()+10)\n",
    "    plt.xlim(-R-8,R+8)\n",
    "    plt.ylabel(\"E [MeV]\")\n",
    "    plt.xticks([],[])\n",
    "    plt.legend(fontsize=30)\n"
   ]
  },
  {
   "cell_type": "markdown",
   "id": "2525330c",
   "metadata": {},
   "source": [
    "## Example for $^{16}$O\n",
    "\n",
    "These results agree with those of reference 1."
   ]
  },
  {
   "cell_type": "code",
   "execution_count": null,
   "id": "49dde0ab",
   "metadata": {},
   "outputs": [],
   "source": [
    "plotBoundedStates(8,8)"
   ]
  },
  {
   "cell_type": "code",
   "execution_count": null,
   "id": "3d4119d4",
   "metadata": {},
   "outputs": [],
   "source": [
    "printExpansion(0,0,1/2,\"p\",8,8)\n",
    "print(\"\\n\")\n",
    "printExpansion(1,0,1/2,\"n\",8,8)"
   ]
  },
  {
   "cell_type": "markdown",
   "id": "084693f0",
   "metadata": {},
   "source": [
    "## Example for $^{40}$Ca\n",
    "\n",
    "These results agree with those of reference 1."
   ]
  },
  {
   "cell_type": "code",
   "execution_count": null,
   "id": "aa963362",
   "metadata": {},
   "outputs": [],
   "source": [
    "plotBoundedStates(20,20)"
   ]
  },
  {
   "cell_type": "code",
   "execution_count": null,
   "id": "5eeb7aa6",
   "metadata": {},
   "outputs": [],
   "source": [
    "printExpansion(0,0,1/2,\"p\",20,20)\n",
    "print(\"\\n\")\n",
    "printExpansion(0,1,3/2,\"n\",20,20)"
   ]
  },
  {
   "cell_type": "markdown",
   "id": "5ea1085e",
   "metadata": {},
   "source": [
    "## Example for $^{238}$U"
   ]
  },
  {
   "cell_type": "code",
   "execution_count": null,
   "id": "b307de6a",
   "metadata": {},
   "outputs": [],
   "source": [
    "plotBoundedStates(238-92,92)"
   ]
  },
  {
   "cell_type": "markdown",
   "id": "b25dc3b6",
   "metadata": {},
   "source": [
    "# References\n",
    "\n",
    "- J. Suhonen, “From Nucleons to Nucleus: Concepts of Microscopic Nuclear Theory,” Chapter 3 ,(2007), Springer.\n",
    "\n",
    "- S. V. Nilsson and I. Ragnarsson, \"Shapes and Shels in Nuclear Structure,\" Chapter 8.3, (1995), Cambridge University Press."
   ]
  }
 ],
 "metadata": {
  "kernelspec": {
   "display_name": "Python 3 (ipykernel)",
   "language": "python",
   "name": "python3"
  },
  "language_info": {
   "codemirror_mode": {
    "name": "ipython",
    "version": 3
   },
   "file_extension": ".py",
   "mimetype": "text/x-python",
   "name": "python",
   "nbconvert_exporter": "python",
   "pygments_lexer": "ipython3",
   "version": "3.9.12"
  }
 },
 "nbformat": 4,
 "nbformat_minor": 5
}
