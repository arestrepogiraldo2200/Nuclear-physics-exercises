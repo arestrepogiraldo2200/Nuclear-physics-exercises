{
 "cells": [
  {
   "cell_type": "markdown",
   "id": "8f6ca968",
   "metadata": {},
   "source": [
    "# Phenomenological shell model single-particle energy levels\n",
    "\n",
    "Usign the mean field\n"
   ]
  },
  {
   "cell_type": "markdown",
   "id": "5a3125e6",
   "metadata": {},
   "source": []
  },
  {
   "cell_type": "code",
   "execution_count": 1,
   "id": "ea600a30",
   "metadata": {},
   "outputs": [],
   "source": [
    "# Libraries\n",
    "\n",
    "import numpy as np\n",
    "import matplotlib.pyplot as plt\n",
    "import scipy as scp\n",
    "import sympy"
   ]
  },
  {
   "cell_type": "code",
   "execution_count": 2,
   "id": "9032343e",
   "metadata": {},
   "outputs": [],
   "source": [
    "# Constants\n",
    "\n",
    "hbar = 6.582119569*10**(-22)           # MeV*s\n",
    "c = 2.99792458*10**(8)*10**(15)        # fm/s\n",
    "m_p = 938.27/c**2                      # MeV*s²/fm²\n",
    "m_n = 939.57/c**2                      # MeV*s²/fm²\n",
    "\n",
    "def hbaromega(A):                          # Parameters: A mass number of nucleus\n",
    "    return 45*A**(-1/3) - 25*A**(-2/3) \n",
    "\n",
    "def b(m,A):                                # Parameters: m mass of nucleon, A mass number of nucleus\n",
    "    return hbar/np.sqrt(m*hbaromega(A))"
   ]
  },
  {
   "cell_type": "code",
   "execution_count": 3,
   "id": "42a7ed86",
   "metadata": {},
   "outputs": [],
   "source": [
    "# Terms of the hamiltonian\n",
    "\n",
    "def Kinetic(r, n, l, m, A):    # Parameters: r coordinate, n radial quantum number, l orbital angular momentum,\n",
    "                               #             m mass of nucleon, A mass number of nucleus\n",
    "    bv = b(m,A)\n",
    "    return hbar**2/(2*m)*((4*n+2*l+3)/bv**2 - r**2/bv**4)\n",
    "\n",
    "def Woods_Saxon(r, N, Z, part):           # Parameters: r coordinate, N number of neutrons, Z number of protons, \n",
    "                                          #             part = 0 for protons and 1 for neutrons\n",
    "    V0 = 51 + (-1)**part*(N-Z)/(N+Z)      # MeV\n",
    "    a = 0.67                              # fm\n",
    "    R = 1.27*(N+Z)**(1/3)                 # fm\n",
    "    \n",
    "    return (-V0)/(1 + np.exp((r-R)/a))\n",
    " \n",
    "def Coulomb(r, N, Z, part):                  # Parameters: r coordinate, Z number of protons,\n",
    "                                             #             part = 0 for protons and 1 for neutrons\n",
    "    R = 1.27*(N+Z)**(1/3)                    # fm\n",
    "    ep0 = 55.26349406*10**(-3)               # vacuum permittivity in e²/(MeV*fm)\n",
    "    fact = Z/(4*np.pi*ep0)\n",
    "    C = []\n",
    "    \n",
    "    try:\n",
    "        for i in r:\n",
    "            if i <= R:\n",
    "                C.append((1-part)*fact*(3-(i/R)**2)/(2*R))\n",
    "            if i > R:\n",
    "                 C.append((1-part)*fact*1/i)\n",
    "        return C\n",
    "        \n",
    "    except: \n",
    "            if r <= R:\n",
    "                return (1-part)*fact*(3-(r/R)**2)/(2*R)\n",
    "            if r > R:\n",
    "                return (1-part)*fact*1/r\n",
    "        \n",
    "        \n",
    "def Spin_Orbit(r, N, Z, part, l, j):      # Parameters: r coordinate, N number of neutrons, Z number of protons,\n",
    "                                          #             part = 0 for protons and 1 for neutrons\n",
    "                                          #             l orbital angular momentum, j total angular momentum\n",
    "\n",
    "    V0 = 51 + (-1)**part*(N-Z)/(N+Z)      # MeV\n",
    "    a = 0.67                              # fm\n",
    "    R = 1.27*(N+Z)**(1/3)                 # fm\n",
    "    ang = 1/2*(j*(j+1) - l*(l+1) - 3/4)   \n",
    "    \n",
    "    return 0.44*V0*(1.27)**2*1/r*(-np.exp((r-R)/a)/(a*(1 + np.exp((r-R)/a))**2))*ang\n",
    "\n",
    "def Hamiltonian(r,n,l,j,m,N,Z,part):      # Parameters: r coordinate, n radial quantum number, \n",
    "                                          #             l orbital angular momentum, N number of neutrons,\n",
    "                                          #             Z number of protons, part = 0 for proton and 1 for neutron\n",
    "                                          #             j total angular momentum\n",
    "\n",
    "    return Kinetic(r,n,l,m,N+Z) + Woods_Saxon(r,N,Z,part) + Coulomb(r,N,Z,part) + Spin_Orbit(r,N,Z,part,l,j)    "
   ]
  },
  {
   "cell_type": "code",
   "execution_count": 4,
   "id": "0562c925",
   "metadata": {},
   "outputs": [],
   "source": [
    "# Harmonic oscillator radial wavefunction\n",
    "\n",
    "def psiHO(r, n, l, m, A):                 # Parameters: r coordinate, n radial quantum number\n",
    "                                          #             l orbital angular momentum,\n",
    "                                          #             m mass of nucleon, A mass number of nucleus\n",
    "    bv = b(m,A)\n",
    "    norm = np.sqrt(2*scp.special.factorial(n)/(bv**3*scp.special.gamma(n+l+3/2)))\n",
    "    return norm*(r/bv)**l*np.exp(-r**2/(2*bv**2))*scp.special.assoc_laguerre(r**2/bv**2, n, k = l+1/2)"
   ]
  },
  {
   "cell_type": "markdown",
   "id": "126d9288",
   "metadata": {},
   "source": [
    "## Examples of potentials and wavefunctions"
   ]
  },
  {
   "cell_type": "code",
   "execution_count": 5,
   "id": "23dafe7e",
   "metadata": {},
   "outputs": [
    {
     "name": "stdout",
     "output_type": "stream",
     "text": [
      "Two examples for proton radial wavefunctions of ²³⁸U:\n",
      "<n=0, l=1|n=1, l=1> =  2.0816681711721685e-17\n",
      "<n=0, l=1|n=0, l=1> =  1.0000000000000016\n"
     ]
    }
   ],
   "source": [
    "# Function to check orthonormality of harmonic oscillator radial wavefunctions\n",
    "\n",
    "def checkOrth(r,n1,l1,m,A,n2,l2):         # Parameters: r coordinate, n1, n2 radial quantum numbers\n",
    "                                          #             l1, l2 orbital angular momentum,\n",
    "                                          #             m mass of nucleon, A mass number of nucleus\n",
    "    f1 = psiHO(r, n1, l1, m, A)\n",
    "    f2 = psiHO(r, n2, l2, m, A)\n",
    "    return r**2*f1*f2\n",
    "\n",
    "print(\"Two examples for proton radial wavefunctions of ²³⁸U:\")\n",
    "print(\"<n=0, l=1|n=1, l=1> = \",scp.integrate.quad(checkOrth, 0, np.infty, args=(0,1, m_p,238,2,1))[0])\n",
    "print(\"<n=0, l=1|n=0, l=1> = \",scp.integrate.quad(checkOrth, 0, np.infty, args=(0,1, m_p,238,0,1))[0])"
   ]
  },
  {
   "cell_type": "code",
   "execution_count": 6,
   "id": "213fbe78",
   "metadata": {},
   "outputs": [
    {
     "data": {
      "image/png": "[encoded data removed]",
      "text/plain": [
       "<Figure size 432x288 with 1 Axes>"
      ]
     },
     "metadata": {
      "needs_background": "light"
     },
     "output_type": "display_data"
    }
   ],
   "source": [
    "# Example wavefunction\n",
    "\n",
    "plt.plot(np.linspace(0.1,30,200),psiHO(np.linspace(0.1,30,200), 4, 2, m_p, 238))\n",
    "plt.suptitle(\"Radial wavefunction of n=4, l=2 for ²³⁸U proton\")\n",
    "plt.xlabel(\"r [fm]\")\n",
    "plt.ylabel(\"$g_{nl}(r)$\")\n",
    "plt.show()"
   ]
  },
  {
   "cell_type": "code",
   "execution_count": 7,
   "id": "a6aa1542",
   "metadata": {},
   "outputs": [
    {
     "data": {
      "image/png": "[encoded data removed]",
      "text/plain": [
       "<Figure size 432x288 with 1 Axes>"
      ]
     },
     "metadata": {
      "needs_background": "light"
     },
     "output_type": "display_data"
    }
   ],
   "source": [
    "# Woods-Saxon potential\n",
    "\n",
    "plt.plot(np.linspace(0.1,30,100),Woods_Saxon(np.linspace(0.1,30,100),238-92,92,0))\n",
    "plt.suptitle(\"Woods-Saxon potential for ²³⁸U\")\n",
    "plt.xlabel(\"r [fm]\")\n",
    "plt.ylabel(\"$V_{WS}(r)$\")\n",
    "plt.show()"
   ]
  },
  {
   "cell_type": "code",
   "execution_count": 8,
   "id": "ab75b2ad",
   "metadata": {},
   "outputs": [
    {
     "data": {
      "image/png": "[encoded data removed]",
      "text/plain": [
       "<Figure size 432x288 with 1 Axes>"
      ]
     },
     "metadata": {
      "needs_background": "light"
     },
     "output_type": "display_data"
    }
   ],
   "source": [
    "# Coulomb potential\n",
    "\n",
    "plt.plot(np.linspace(0.1,30,100),Coulomb(np.linspace(0.1,30,100),238-92,92,0))\n",
    "plt.suptitle(\"Coulomb potential for a uniformly charged spherical ²³⁸U nucleus\")\n",
    "plt.xlabel(\"r [fm]\")\n",
    "plt.ylabel(\"$V_{C}(r)$\")\n",
    "plt.show()"
   ]
  },
  {
   "cell_type": "code",
   "execution_count": 9,
   "id": "4275b6d9",
   "metadata": {},
   "outputs": [
    {
     "data": {
      "image/png": "[encoded data removed]",
      "text/plain": [
       "<Figure size 432x288 with 1 Axes>"
      ]
     },
     "metadata": {
      "needs_background": "light"
     },
     "output_type": "display_data"
    }
   ],
   "source": [
    "# Spin orbit potential\n",
    "\n",
    "plt.plot(np.linspace(0.1,30,200),Spin_Orbit(np.linspace(0.1,30,200),238-92,92,0,2,5/2))\n",
    "plt.suptitle(\"Spin-Orbit potential for a ²³⁸U proton in orbital $l$ = 2 and $j$ = 3/2\")\n",
    "plt.xlabel(\"r [fm]\")\n",
    "plt.ylabel(\"$V_{SL}(r)$\")\n",
    "plt.show()"
   ]
  },
  {
   "cell_type": "code",
   "execution_count": 10,
   "id": "fd83a796",
   "metadata": {},
   "outputs": [
    {
     "data": {
      "image/png": "[encoded data removed]",
      "text/plain": [
       "<Figure size 432x288 with 1 Axes>"
      ]
     },
     "metadata": {
      "needs_background": "light"
     },
     "output_type": "display_data"
    }
   ],
   "source": [
    "# Complete potential\n",
    "\n",
    "plt.plot(np.linspace(0.1,30,100),Woods_Saxon(np.linspace(0.1,30,100),238-92,92,0) + Coulomb(np.linspace(0.1,30,100),238-92,92,0) + Spin_Orbit(np.linspace(0.1,30,100),238-92,92,0,2,5/2), label=\"$\\pi$\")\n",
    "plt.plot(np.linspace(0.1,30,100),Woods_Saxon(np.linspace(0.1,30,100),238-92,92,1) + Spin_Orbit(np.linspace(0.1,30,100),238-92,92,1,2,5/2), label=\"$ν$\")\n",
    "plt.suptitle(\"Total potential for a ²³⁸U protons and neutrons in orbital $l$ = 2 and $j$ = 3/2\")\n",
    "plt.xlabel(\"r [fm]\")\n",
    "plt.ylabel(\"$V_{WS}(r) + V_{C}(r) + V_{SL}(r)$\")\n",
    "plt.legend()\n",
    "plt.show()"
   ]
  },
  {
   "cell_type": "markdown",
   "id": "b1bc1bed",
   "metadata": {},
   "source": [
    "## Matrix elements"
   ]
  },
  {
   "cell_type": "code",
   "execution_count": 11,
   "id": "74ddbd22",
   "metadata": {},
   "outputs": [],
   "source": [
    "# Function to compute matrix elements\n",
    "\n",
    "def Integrand(r,n1,n2,l,j,m,N,Z,part):           # Parameters: r coordinate, n1, n2 radial quantum numbers, \n",
    "                                                 #             l orbital angular momentum, N number of neutrons,\n",
    "                                                 #             Z number of protons, part = 0 for proton and \n",
    "                                                 #             1 for neutron, j total angular momentum\n",
    "    f1 = psiHO(r, n1, l, m, Z+N)\n",
    "    f2 = psiHO(r, n2, l, m, Z+N)\n",
    "    h = Hamiltonian(r,n2,l,j,m,N,Z,part)\n",
    "    \n",
    "    return r**2*f1*f2*h\n",
    "\n",
    "def MatrixElement(n1,n2,l,j,m,N,Z,part):\n",
    "    \n",
    "    return scp.integrate.quad(Integrand, 0, 200, args=(n1,n2,l,j,m,N,Z,part))[0]   # Integral up to 200fm"
   ]
  },
  {
   "cell_type": "code",
   "execution_count": 12,
   "id": "f2c90e43",
   "metadata": {},
   "outputs": [
    {
     "data": {
      "image/png": "[encoded data removed]",
      "text/plain": [
       "<Figure size 432x288 with 1 Axes>"
      ]
     },
     "metadata": {
      "needs_background": "light"
     },
     "output_type": "display_data"
    },
    {
     "name": "stdout",
     "output_type": "stream",
     "text": [
      "<1,1|h|2,1> =  4.286399804994014\n"
     ]
    }
   ],
   "source": [
    "# Example of integrand of <1,1|h|2,1>\n",
    "\n",
    "plt.plot(np.linspace(0.1,30,200),Integrand(np.linspace(0.1,30,200),1,2,1,3/2,m_p,238-92,92,0))\n",
    "plt.suptitle(\"Integrand of <1,1|h|2,1> for a ²³⁸U proton\")\n",
    "plt.xlabel(\"r [fm]\")\n",
    "plt.ylabel(\"$r²g_{11}(r)g_{21}(r)$\")\n",
    "plt.show()\n",
    "\n",
    "print(\"<1,1|h|2,1> = \",MatrixElement(1,2,1,3/2,m_p,238-92,92,0))"
   ]
  },
  {
   "cell_type": "code",
   "execution_count": 13,
   "id": "9d65b509",
   "metadata": {},
   "outputs": [],
   "source": [
    "# Function to add a row and a column to a matrix\n",
    "\n",
    "def addrowaddcolumn(Mat):           # Parameters: 2D object list, array, tuple, sympy matrix etc.\n",
    "    M = np.array(Mat)\n",
    "    addcol = np.concatenate([M, np.zeros((len(M[0]),1))], axis=1)\n",
    "    addrow = np.concatenate([addcol, np.zeros((1,len(addcol[0])))], axis=0)\n",
    "    \n",
    "    return addrow\n",
    "\n",
    "# Function to check convergence of an expansion\n",
    "\n",
    "def checkconvergence(S, i):        # Parameters: column of the change of basis matrix\n",
    "    \n",
    "    col = np.array(S.col(i)).astype(np.float128)**2\n",
    "    s = 0.0\n",
    "    \n",
    "    for i in range(0,len(col)):\n",
    "        s += np.around(col[i],10)\n",
    "    \n",
    "    if abs(s-1.0) <= 1e-10:\n",
    "        return 1\n",
    "    else:\n",
    "        return 0"
   ]
  },
  {
   "cell_type": "markdown",
   "id": "c8545228",
   "metadata": {},
   "source": [
    "## Example for $^{16}$O"
   ]
  },
  {
   "cell_type": "code",
   "execution_count": 25,
   "id": "587706a4",
   "metadata": {},
   "outputs": [],
   "source": [
    "# Matrix for 0s1/2\n",
    "M = np.zeros((10,10))\n",
    "\n",
    "for i in range (10):\n",
    "    for j in range (10):\n",
    "        \n",
    "        M[i][j] = MatrixElement(i,j,5,11/2,m_p,238-92,92,0)"
   ]
  },
  {
   "cell_type": "code",
   "execution_count": 26,
   "id": "de565ae9",
   "metadata": {},
   "outputs": [],
   "source": [
    "Mat = sympy.Matrix(M)\n",
    "P, D = Mat.diagonalize()\n",
    "\n",
    "# n1,n2,l,j,m,N,Z,part"
   ]
  },
  {
   "cell_type": "code",
   "execution_count": 27,
   "id": "7890772c",
   "metadata": {},
   "outputs": [
    {
     "data": {
      "text/latex": [
       "$\\displaystyle \\left[\\begin{matrix}-3.02479942141604 & 1.26632973533825 & 3.43474139086569 & 1.9824585077423 & -0.572510166551111 & -1.00691494749937 & -0.312962142055599 & 0.262779845791504 & 0.353227692203478 & 0.156256695418606\\\\1.26632973533824 & 14.4204277745714 & 0.461435038144734 & 0.753342141016264 & 3.72816158753408 & 1.30270553738072 & -0.843471064358647 & -1.15142163620327 & -0.445470579722828 & 0.228938706091218\\\\3.43474139734972 & 0.461435038144732 & 26.1242293964242 & 4.4524844883174 & -1.76257871974093 & 3.13768334256324 & 2.39689450515443 & 0.162067409507986 & -1.03655907851327 & -0.932739313090764\\\\1.9824585077423 & 0.75334214101627 & 4.4524844956339 & 34.8522239132966 & 8.47424521169071 & -3.31351922741056 & 2.31123218799774 & 2.86893663546442 & 1.02836058808071 & -0.604922733987246\\\\-0.572510160948095 & 3.72816158753408 & -1.76257871974092 & 8.47424519234425 & 42.8728227624905 & 12.6548653084004 & -4.32463327534069 & 1.38484221294731 & 2.89649488364993 & 1.66630563622315\\\\-1.00691495115325 & 1.30270553738072 & 3.13768334256325 & -3.31351922741058 & 12.6548653084004 & 50.4618028400305 & 16.7167498941241 & -5.01627270146523 & 0.540433324182338 & 2.70831001068401\\\\-0.312962142055593 & -0.843471064358643 & 2.39689450515443 & 2.31123217963401 & -4.32463327534069 & 16.7167498941241 & 57.7811803132163 & 20.708559445964 & -5.46810876607134 & -0.192456046179889\\\\0.262779841950736 & -1.15142163113825 & 0.162067409507971 & 2.86893664867954 & 1.3848422129473 & -5.01627270146523 & 20.708555390912 & 64.9539217800184 & 24.6301895279446 & -5.77140423881325\\\\0.353227695209683 & -0.445470579722833 & -1.0365590753453 & 1.02836058808071 & 2.89649488364992 & 0.540433330320572 & -5.46810876607136 & 24.6301895279446 & 72.0124003799949 & 28.4820694654128\\\\0.156256694016948 & 0.228938706091202 & -0.932739313090744 & -0.60492273537523 & 1.66630563622315 & 2.708310010684 & -0.192456046179882 & -5.77140423881324 & 28.4820694654128 & 78.9896150276964\\end{matrix}\\right]$"
      ],
      "text/plain": [
       "Matrix([\n",
       "[ -3.02479942141604,   1.26632973533825,   3.43474139086569,   1.9824585077423, -0.572510166551111, -1.00691494749937, -0.312962142055599, 0.262779845791504,  0.353227692203478,  0.156256695418606],\n",
       "[  1.26632973533824,   14.4204277745714,  0.461435038144734, 0.753342141016264,   3.72816158753408,  1.30270553738072, -0.843471064358647, -1.15142163620327, -0.445470579722828,  0.228938706091218],\n",
       "[  3.43474139734972,  0.461435038144732,   26.1242293964242,   4.4524844883174,  -1.76257871974093,  3.13768334256324,   2.39689450515443, 0.162067409507986,  -1.03655907851327, -0.932739313090764],\n",
       "[   1.9824585077423,   0.75334214101627,    4.4524844956339,  34.8522239132966,   8.47424521169071, -3.31351922741056,   2.31123218799774,  2.86893663546442,   1.02836058808071, -0.604922733987246],\n",
       "[-0.572510160948095,   3.72816158753408,  -1.76257871974092,  8.47424519234425,   42.8728227624905,  12.6548653084004,  -4.32463327534069,  1.38484221294731,   2.89649488364993,   1.66630563622315],\n",
       "[ -1.00691495115325,   1.30270553738072,   3.13768334256325, -3.31351922741058,   12.6548653084004,  50.4618028400305,   16.7167498941241, -5.01627270146523,  0.540433324182338,   2.70831001068401],\n",
       "[-0.312962142055593, -0.843471064358643,   2.39689450515443,  2.31123217963401,  -4.32463327534069,  16.7167498941241,   57.7811803132163,   20.708559445964,  -5.46810876607134, -0.192456046179889],\n",
       "[ 0.262779841950736,  -1.15142163113825,  0.162067409507971,  2.86893664867954,    1.3848422129473, -5.01627270146523,    20.708555390912,  64.9539217800184,   24.6301895279446,  -5.77140423881325],\n",
       "[ 0.353227695209683, -0.445470579722833,   -1.0365590753453,  1.02836058808071,   2.89649488364992, 0.540433330320572,  -5.46810876607136,  24.6301895279446,   72.0124003799949,   28.4820694654128],\n",
       "[ 0.156256694016948,  0.228938706091202, -0.932739313090744, -0.60492273537523,   1.66630563622315,    2.708310010684, -0.192456046179882, -5.77140423881324,   28.4820694654128,   78.9896150276964]])"
      ]
     },
     "execution_count": 27,
     "metadata": {},
     "output_type": "execute_result"
    }
   ],
   "source": [
    "Mat"
   ]
  },
  {
   "cell_type": "code",
   "execution_count": 28,
   "id": "767f39fa",
   "metadata": {},
   "outputs": [
    {
     "data": {
      "text/latex": [
       "$\\displaystyle \\left[\\begin{matrix}-3.60425572894126 & 0 & 0 & 0 & 0 & 0 & 0 & 0 & 0 & 0\\\\0 & 13.7450383967499 & 0 & 0 & 0 & 0 & 0 & 0 & 0 & 0\\\\0 & 0 & 15.6986556606155 & 0 & 0 & 0 & 0 & 0 & 0 & 0\\\\0 & 0 & 0 & 22.9985567812742 & 0 & 0 & 0 & 0 & 0 & 0\\\\0 & 0 & 0 & 0 & 31.0648586317165 & 0 & 0 & 0 & 0 & 0\\\\0 & 0 & 0 & 0 & 0 & 40.7806962238571 & 0 & 0 & 0 & 0\\\\0 & 0 & 0 & 0 & 0 & 0 & 53.8659850551667 & 0 & 0 & 0\\\\0 & 0 & 0 & 0 & 0 & 0 & 0 & 69.7711644863052 & 0 & 0\\\\0 & 0 & 0 & 0 & 0 & 0 & 0 & 0 & 86.3762498784887 & 0\\\\0 & 0 & 0 & 0 & 0 & 0 & 0 & 0 & 0 & 108.746875381091\\end{matrix}\\right]$"
      ],
      "text/plain": [
       "Matrix([\n",
       "[-3.60425572894126,                0,                0,                0,                0,                0,                0,                0,                0,                0],\n",
       "[                0, 13.7450383967499,                0,                0,                0,                0,                0,                0,                0,                0],\n",
       "[                0,                0, 15.6986556606155,                0,                0,                0,                0,                0,                0,                0],\n",
       "[                0,                0,                0, 22.9985567812742,                0,                0,                0,                0,                0,                0],\n",
       "[                0,                0,                0,                0, 31.0648586317165,                0,                0,                0,                0,                0],\n",
       "[                0,                0,                0,                0,                0, 40.7806962238571,                0,                0,                0,                0],\n",
       "[                0,                0,                0,                0,                0,                0, 53.8659850551667,                0,                0,                0],\n",
       "[                0,                0,                0,                0,                0,                0,                0, 69.7711644863052,                0,                0],\n",
       "[                0,                0,                0,                0,                0,                0,                0,                0, 86.3762498784887,                0],\n",
       "[                0,                0,                0,                0,                0,                0,                0,                0,                0, 108.746875381091]])"
      ]
     },
     "execution_count": 28,
     "metadata": {},
     "output_type": "execute_result"
    }
   ],
   "source": [
    "D"
   ]
  },
  {
   "cell_type": "code",
   "execution_count": 30,
   "id": "564bc3e0",
   "metadata": {},
   "outputs": [
    {
     "data": {
      "text/latex": [
       "$\\displaystyle \\left[\\begin{matrix}0.990439204336009 & 0.055996846917361 & 0.035930834679048 & 0.0664283529258797 & -0.0873325201480897 & -0.0491951689000239 & -0.00111318676654191 & 0.0115071067051962 & -0.000519202371903566 & -0.00311914850830114\\\\-0.0699026750256893 & 0.917131015183539 & 0.368999101996012 & 0.0828991167322807 & 0.0276314609515146 & -0.0373555197101431 & -0.0859980939022195 & -0.033722099691781 & 0.0156934355001897 & 0.00369304872340239\\\\-0.109089830824491 & -0.143958554435995 & 0.209385531601775 & 0.700534096923057 & -0.637208238602783 & -0.144823482743082 & 0.00209860747594048 & -0.0615837709370549 & -0.0430068049065674 & 0.0114160524473916\\\\-0.0393975013049303 & 0.115644156639605 & -0.305726726984059 & -0.394398145750226 & -0.388300799484818 & -0.717833286286477 & -0.255761164198654 & 0.00947580655640715 & -0.0621492685861037 & -0.025046416051256\\\\0.0170588441498572 & -0.24435859705035 & 0.330212940670174 & 0.162954863806675 & 0.411347761668879 & -0.235830770695947 & -0.725383246770484 & -0.223304956393514 & 0.00480631858280875 & -0.059252263711204\\\\0.0179004205442301 & 0.150515011748888 & -0.436833312195639 & 0.00258459611678704 & -0.2004279318965 & 0.422504795785037 & -0.287406127692992 & -0.6825230227088 & -0.13331461304212 & -0.0360614040341872\\\\0.00671607882537172 & -0.129576386488848 & 0.436563659077763 & -0.255637577210566 & 0.0119622097369926 & -0.167157532767957 & 0.391677770216545 & -0.465817877110687 & -0.56894087758721 & -0.0710656704271271\\\\-0.00281592673087347 & 0.126522759580047 & -0.368118027246765 & 0.350694550803462 & 0.262764881786195 & -0.0745200318251271 & -0.0267214359578482 & 0.30049455875398 & -0.662436616014477 & -0.347928898068502\\\\-0.00431220423922797 & -0.0711674879506099 & 0.277865146267803 & -0.301885504996717 & -0.334596241820422 & 0.32817656029917 & -0.231270926929352 & 0.242844510052216 & -0.0086563457179459 & -0.70312411001969\\\\-0.00282573126578909 & 0.0375321872650145 & -0.148545705616689 & 0.19074597584681 & 0.210419161555931 & -0.290868951500364 & 0.332851351206263 & -0.335988904754767 & 0.462227777357182 & -0.611489464964031\\end{matrix}\\right]$"
      ],
      "text/plain": [
       "Matrix([\n",
       "[   0.990439204336009,   0.055996846917361,  0.035930834679048,  0.0664283529258797, -0.0873325201480897, -0.0491951689000239, -0.00111318676654191,  0.0115071067051962, -0.000519202371903566, -0.00311914850830114],\n",
       "[ -0.0699026750256893,   0.917131015183539,  0.368999101996012,  0.0828991167322807,  0.0276314609515146, -0.0373555197101431,  -0.0859980939022195,  -0.033722099691781,    0.0156934355001897,  0.00369304872340239],\n",
       "[  -0.109089830824491,  -0.143958554435995,  0.209385531601775,   0.700534096923057,  -0.637208238602783,  -0.144823482743082,  0.00209860747594048, -0.0615837709370549,   -0.0430068049065674,   0.0114160524473916],\n",
       "[ -0.0393975013049303,   0.115644156639605, -0.305726726984059,  -0.394398145750226,  -0.388300799484818,  -0.717833286286477,   -0.255761164198654, 0.00947580655640715,   -0.0621492685861037,   -0.025046416051256],\n",
       "[  0.0170588441498572,   -0.24435859705035,  0.330212940670174,   0.162954863806675,   0.411347761668879,  -0.235830770695947,   -0.725383246770484,  -0.223304956393514,   0.00480631858280875,   -0.059252263711204],\n",
       "[  0.0179004205442301,   0.150515011748888, -0.436833312195639, 0.00258459611678704,    -0.2004279318965,   0.422504795785037,   -0.287406127692992,    -0.6825230227088,     -0.13331461304212,  -0.0360614040341872],\n",
       "[ 0.00671607882537172,  -0.129576386488848,  0.436563659077763,  -0.255637577210566,  0.0119622097369926,  -0.167157532767957,    0.391677770216545,  -0.465817877110687,     -0.56894087758721,  -0.0710656704271271],\n",
       "[-0.00281592673087347,   0.126522759580047, -0.368118027246765,   0.350694550803462,   0.262764881786195, -0.0745200318251271,  -0.0267214359578482,    0.30049455875398,    -0.662436616014477,   -0.347928898068502],\n",
       "[-0.00431220423922797, -0.0711674879506099,  0.277865146267803,  -0.301885504996717,  -0.334596241820422,    0.32817656029917,   -0.231270926929352,   0.242844510052216,   -0.0086563457179459,    -0.70312411001969],\n",
       "[-0.00282573126578909,  0.0375321872650145, -0.148545705616689,    0.19074597584681,   0.210419161555931,  -0.290868951500364,    0.332851351206263,  -0.335988904754767,     0.462227777357182,   -0.611489464964031]])"
      ]
     },
     "execution_count": 30,
     "metadata": {},
     "output_type": "execute_result"
    }
   ],
   "source": [
    "P"
   ]
  },
  {
   "cell_type": "code",
   "execution_count": 31,
   "id": "16a88930",
   "metadata": {},
   "outputs": [
    {
     "data": {
      "text/plain": [
       "1.0000000000000009"
      ]
     },
     "execution_count": 31,
     "metadata": {},
     "output_type": "execute_result"
    }
   ],
   "source": [
    "0.999985598153946**2+0.00536688780351357**2"
   ]
  },
  {
   "cell_type": "code",
   "execution_count": 32,
   "id": "3a3957df",
   "metadata": {},
   "outputs": [
    {
     "name": "stdout",
     "output_type": "stream",
     "text": [
      "[1.]\n"
     ]
    }
   ],
   "source": [
    "akkm = np.array(P.col(0)).astype(np.float128)**2\n",
    "s=0.0\n",
    "for i in range(0,10):\n",
    "    s+=np.around(akkm[i],10)\n",
    "print(s)"
   ]
  },
  {
   "cell_type": "code",
   "execution_count": 23,
   "id": "97715aec",
   "metadata": {},
   "outputs": [
    {
     "data": {
      "text/plain": [
       "1"
      ]
     },
     "execution_count": 23,
     "metadata": {},
     "output_type": "execute_result"
    }
   ],
   "source": [
    "checkconvergence(P,0)"
   ]
  },
  {
   "cell_type": "code",
   "execution_count": 24,
   "id": "615cd276",
   "metadata": {},
   "outputs": [
    {
     "name": "stdout",
     "output_type": "stream",
     "text": [
      "[1.]\n",
      "[1.]\n",
      "[1.]\n",
      "[1.]\n",
      "[1.]\n",
      "[1.]\n",
      "[1.]\n",
      "[1.]\n",
      "[1.]\n",
      "[1.]\n",
      "[1.]\n"
     ]
    }
   ],
   "source": [
    "s=0.0\n",
    "for i in range(0,10):\n",
    "    s+=np.around(akkm[i],2)\n",
    "    print(s)\n",
    "print(s)"
   ]
  },
  {
   "cell_type": "code",
   "execution_count": 343,
   "id": "84a8a577",
   "metadata": {},
   "outputs": [
    {
     "data": {
      "text/plain": [
       "0.9997583916276"
      ]
     },
     "execution_count": 343,
     "metadata": {},
     "output_type": "execute_result"
    }
   ],
   "source": [
    "0.99964907+5.97231554e-05+2.47992361e-05+2.47992361e-05"
   ]
  },
  {
   "cell_type": "code",
   "execution_count": 329,
   "id": "355b629e",
   "metadata": {},
   "outputs": [
    {
     "data": {
      "text/plain": [
       "10"
      ]
     },
     "execution_count": 329,
     "metadata": {},
     "output_type": "execute_result"
    }
   ],
   "source": [
    "len(np.array(P.col(0)).astype(np.float128)**2)"
   ]
  },
  {
   "cell_type": "code",
   "execution_count": null,
   "id": "e510f494",
   "metadata": {},
   "outputs": [],
   "source": []
  },
  {
   "cell_type": "code",
   "execution_count": null,
   "id": "24846c44",
   "metadata": {},
   "outputs": [],
   "source": []
  },
  {
   "cell_type": "code",
   "execution_count": null,
   "id": "d41e4ee6",
   "metadata": {},
   "outputs": [],
   "source": []
  },
  {
   "cell_type": "code",
   "execution_count": null,
   "id": "791dc931",
   "metadata": {},
   "outputs": [],
   "source": []
  },
  {
   "cell_type": "code",
   "execution_count": null,
   "id": "9f840257",
   "metadata": {},
   "outputs": [],
   "source": []
  },
  {
   "cell_type": "markdown",
   "id": "7abcd137",
   "metadata": {},
   "source": [
    "# References\n",
    "\n",
    "- J. Suhonen, “From Nucleons to Nucleus: Concepts of Microscopic Nuclear Theory,” Chapter 3 ,(2007), Springer.\n",
    "\n",
    "- S. V. Nilsson and I. Ragnarsson, \"Shapes and Shels in Nuclear Structure,\" Chapter 8.3, (1995), Cambridge University Press."
   ]
  }
 ],
 "metadata": {
  "kernelspec": {
   "display_name": "Python 3 (ipykernel)",
   "language": "python",
   "name": "python3"
  },
  "language_info": {
   "codemirror_mode": {
    "name": "ipython",
    "version": 3
   },
   "file_extension": ".py",
   "mimetype": "text/x-python",
   "name": "python",
   "nbconvert_exporter": "python",
   "pygments_lexer": "ipython3",
   "version": "3.9.12"
  }
 },
 "nbformat": 4,
 "nbformat_minor": 5
}
