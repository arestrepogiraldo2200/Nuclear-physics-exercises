{
 "cells": [
  {
   "cell_type": "markdown",
   "id": "c7da11e8",
   "metadata": {},
   "source": [
    "# $^{24}$Mg structure in the algebraic rotational model\n",
    "\n",
    "## Theory\n",
    "In a previous notebook the structure of the isotope $^{24}$Mg was studied in the $SU(3)$ scheme. However, one clear difficulty was noticed; the $K$-degeneracy between same $L$ levels in a given $(\\lambda\\mu)$ irrep. This degeneracy can be raised with the use of the $SU(3)\\supset SO(3)$ integrity basis operators.\n",
    "\n",
    "Emmy Noether proved that for a group chain $G\\supset H$, all scalar operators in $G$ with respect to $H$ can be expressed as multinomial functions of some set of $H$ scalars. This set is called the integrity basis operators (IBO) which for $SU(3)\\supset SO(3)$ are {$L^2$, $\\mathcal{C}_2[SU(3)]$, $\\mathcal{C}_3[SU(3)]$, $X_3$, $X_4$} where $X_3$ and $X_4$ denote three and four body operators respectively to be specified below. Since the rotational symmetry of the nuclear interaction must be respected, the most general $SO(3)$ symmetry preserving interaction in the $SU(3)$ scheme can be expanded as a function of the IBO. \n",
    "\n",
    "For the case of $SU(3)\\supset SO(3)$ the IBO, these can be split into three groups:\n",
    "\n",
    "- $SO(3)$ scalar: $L^2$\n",
    "- $SU(3)$ Casimir invariants: $\\mathcal{C}_2[SU(3)]$ and $\\mathcal{C}_3[SU(3)]$\n",
    "- $SU(3)$ non-Casimir invariants: $X_3$, $X_4$\n",
    "\n",
    "This last group can couple and mix multiple occurrences of $L$ in a given $(\\lambda\\mu)$, i.e., it can distinguish between different $K$ labels and thus will be helpful in raising the degeneracy. First I will specify the algebraic forms of $X_3$ and $X_4$ operators. For $X_3$ the three-bosy operator options are:\n",
    "\n",
    "- $X_3$: $\\big[Q^2\\times L^1 \\big]^1\\cdot L^1$, $\\big[L^1\\times L^1\\big]^1\\cdot L^1$, $\\big[Q^2\\times Q^2\\big]^1\\cdot L^1$, $\\big[Q^2\\times Q^2\\big]^2\\cdot Q^2$\n",
    "\n",
    "The option $\\big[L^1\\times L^1\\big]^1\\cdot L^1$ should be discarded since it is an operator wholely in the $SO(3)$ space. Henceforth the philosophy to follow is to keep the lowest rank in each coupling, thus the three-body operator will be \n",
    "\n",
    "$$X_3 = \\big[L^1\\times L^1\\big]^1\\cdot L^1 = \\sqrt{3}\\big[\\big[Q^2\\times L^1 \\big]^1\\times L^1\\big ]_0^0$$\n",
    "\n",
    "Similarly for $X_4$\n",
    "\n",
    "$$X_4 =  \\big[Q^2\\times L^1 \\big]^1\\cdot \\big[Q^2\\times L^1 \\big]^1= \\sqrt{3}\\big[\\big[Q^2\\times L^1 \\big]^1\\times \\big[Q^2\\times L^1 \\big]^1\\big ]_0^0$$\n",
    "\n",
    "\n",
    "Recall that $S^L\\cdot T^L = (-1)^L\\sqrt{2L+1}[T^L\\times C^L]_0^0$, where the phase factor has been omitted in the equations above. \n",
    "\n",
    "\n",
    "It is a common characteristic of the mathematical theories of physics that the lowest orders should account for the main aspects of the physical system while the higher order for the details. Following this principle the proposed Hamiltonian is\n",
    "\n",
    "$$H_{int} = aL^2+bX_3+cX_4$$\n",
    "\n",
    "where $a$, $b$, and $c$ are parameters to be fit with experimental data. One expects that $|a|>|b|>|c|$. This Hamiltonian has an even deeper meaning since it was shown by Y. Leschber and J. Draayer that one can transform the rotor Hamiltonian $H_{rot} = \\sum^3_{i=1}\\frac{I^2_i}{2\\mathcal{I_i}}$ exactly into $H_{int}$ where $a$, $b$, and $c$ relate to the moments of inertia of the nuclei. \n",
    "\n",
    "\n"
   ]
  },
  {
   "cell_type": "markdown",
   "id": "ab0b1d0d",
   "metadata": {},
   "source": [
    "## Matrix elements\n",
    "\n",
    "Using the relation $Q\\cdot Q = 4\\mathcal{C}_2[SU(3)]-3L^2$ one can obtain the $SO(3)\\supset SO(2)$ reduced matrix elements after application of $SU(3)\\supset SO(3)$ Wigner-Eckart theorem as\n",
    "\n",
    "$$ \\langle(\\lambda\\mu)KL|| L^{(11)11} || (\\lambda\\mu)K'L'\\rangle = 2\\delta_{KK'}\\delta_{LL'}(-1)^{\\phi}\\sqrt{\\frac{\\mathcal{C}_2(\\lambda,\\mu)}{3}}\\langle(\\lambda\\mu)KL,(11)11||(\\lambda\\mu)KL\\rangle _{\\rho = 1} = \\sqrt{L(L+1)}$$\n",
    "\n",
    "\n",
    "$$ \\langle(\\lambda\\mu)KL|| Q^{(11)12} || (\\lambda\\mu)K'L'\\rangle = 2(-1)^{\\phi}\\sqrt{\\mathcal{C}_2(\\lambda,\\mu)}\\langle(\\lambda\\mu)K'L',(11)12||(\\lambda\\mu)KL\\rangle _{\\rho = 1}$$\n",
    "\n",
    "where $\\phi=0, 1$ if $\\mu=0$, $\\mu\\ne 0$ respectively, the Casimir eigenvalue $\\mathcal{C}_2(\\lambda,\\mu) = \\frac{2}{3}(\\lambda^2 + \\mu^2+\\lambda\\mu+3(\\lambda+\\mu))$ and $\\langle-,-||-\\rangle$ are the $SU(3)\\supset SO(3)$ Wigner coefficients which can be computed using the library su3lib. Details about the labels (11)11 and (11)12 can be found on the thesis in the references. Notice that the operator $L^{(11)11}$ cannot mix any $(\\lambda\\mu)KL$ label while $Q^{(11)12}$ only mixes $KL$.\n",
    "\n",
    "These matrix elements allow to compute the corresponding matrix elements for $X_3$ and $X_4$ for different labels K by means of operators uncoupling and Wigner-Eckart theorem \n",
    "\n",
    "$$ \\langle(\\lambda\\mu)KLM| X_3 |(\\lambda\\mu)K'LM\\rangle = 2\\sqrt{3}(-1)^{\\phi}L(L+1) \\begin{Bmatrix}\n",
    "1 & 1 & 2\\\\\n",
    "L & L & L\n",
    "\\end{Bmatrix} \\sqrt{\\mathcal{C}_2(\\lambda,\\mu)}\\langle(\\lambda\\mu)K'L,(11)12||(\\lambda\\mu)KL\\rangle _{\\rho = 1}\n",
    "$$\n",
    "\n",
    "\n",
    "\n",
    "$$ \\langle(\\lambda\\mu)KLM| X_4 |(\\lambda\\mu)K'LM\\rangle =    12L(L+1)\\mathcal{C}_2(\\lambda,\\mu)\\sum_{K'',L''}(-1)^{L+L''+1}\\begin{Bmatrix}\n",
    "1 & 2 & 1\\\\\n",
    "L'' & L & L\n",
    "\\end{Bmatrix}^2 \\langle(\\lambda\\mu)K''L'',(11)12||(\\lambda\\mu)KL\\rangle _{\\rho = 1} \\\\ \\hspace{150mm}\\times\\langle(\\lambda\\mu)K'L,(11)12||(\\lambda\\mu)K''L''\\rangle _{\\rho = 1}  \n",
    "$$\n",
    "\n",
    "Now one can compute the matrix elements of the Hamiltonian $H_{int}$ which requires to be diagonalized in order to obtain the energy levels.\n"
   ]
  },
  {
   "cell_type": "markdown",
   "id": "75172e07",
   "metadata": {},
   "source": [
    "## Hamiltonian diagonalization"
   ]
  },
  {
   "cell_type": "code",
   "execution_count": null,
   "id": "bcb2aca7",
   "metadata": {},
   "outputs": [],
   "source": []
  },
  {
   "cell_type": "code",
   "execution_count": null,
   "id": "85c8e53f",
   "metadata": {},
   "outputs": [],
   "source": []
  },
  {
   "cell_type": "code",
   "execution_count": null,
   "id": "379c6328",
   "metadata": {},
   "outputs": [],
   "source": []
  },
  {
   "cell_type": "code",
   "execution_count": null,
   "id": "ed42e5c9",
   "metadata": {},
   "outputs": [],
   "source": []
  },
  {
   "cell_type": "markdown",
   "id": "597c9330",
   "metadata": {},
   "source": [
    "# References\n",
    "\n",
    "- J. Draayer and G. Rosensteel, “U(3) → r(3) integrity-basis spectroscopy,” Nuclear Physics\n",
    "A, vol. 439, no. 1, pp. 61–85, 1985. [Online]. Available: https://www.sciencedirect.com/\n",
    "science/article/pii/037594748590209X\n",
    "\n",
    "- Y. Leschber and J. Draayer, “Algebraic realization of rotational dynamics,” Physics Letters\n",
    "B, vol. 190, no. 1, pp. 1–6, 1987. [Online]. Available: https://www.sciencedirect.com/\n",
    "science/article/pii/037026938790829X\n",
    "\n",
    "- T. Dytrych, D. Langr, and J. P. Draayer, “su3lib,” 2011. [Online]. Available:\n",
    "https://gitlab.com/tdytrych/su3lib\n",
    "\n",
    "- Restrepo-Giraldo A, \"Structure of Heavy Nuclei Based on Nucleon Quartets\", ArXiv, 2023. Available: \n",
    "https://doi.org/10.48550/arXiv.2306.11996"
   ]
  }
 ],
 "metadata": {
  "kernelspec": {
   "display_name": "Python 3 (ipykernel)",
   "language": "python",
   "name": "python3"
  },
  "language_info": {
   "codemirror_mode": {
    "name": "ipython",
    "version": 3
   },
   "file_extension": ".py",
   "mimetype": "text/x-python",
   "name": "python",
   "nbconvert_exporter": "python",
   "pygments_lexer": "ipython3",
   "version": "3.7.6"
  }
 },
 "nbformat": 4,
 "nbformat_minor": 5
}
