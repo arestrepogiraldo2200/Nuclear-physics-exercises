{
 "cells": [
  {
   "cell_type": "markdown",
   "id": "c7da11e8",
   "metadata": {},
   "source": [
    "# $^{24}$Mg structure in the algebraic rotational model\n",
    "\n",
    "## Theory\n",
    "In a previous notebook the structure of the isotope $^{24}$Mg was studied within the $SU(3)$ scheme. However, one clear difficulty was noticed; the $K$-degeneracy between same $L$ levels in a given $(\\lambda\\mu)$ irrep. This degeneracy can be raised with the use of the $SU(3)\\supset SO(3)$ integrity basis operators.\n",
    "\n",
    "Emmy Noether proved that for a group chain $G\\supset H$, all scalar operators in $G$ with respect to $H$ can be expressed as multinomial functions of some set of $H$ scalars. This set is called the integrity basis operators (IBO) which for $SU(3)\\supset SO(3)$ are {$L^2$, $\\mathcal{C}_2[SU(3)]$, $\\mathcal{C}_3[SU(3)]$, $X_3$, $X_4$}, where $X_3$ and $X_4$ denote three and four body operators respectively to be specified below. Since the rotational symmetry of the nuclear interaction must be respected, the most general $SO(3)$ symmetry preserving interaction in the $SU(3)$ scheme can be expanded as a function of the IBO. \n",
    "\n",
    "For the case of $SU(3)\\supset SO(3)$, the IBO can be split into three groups:\n",
    "\n",
    "- $SO(3)$ scalar: $L^2$\n",
    "- $SU(3)$ Casimir invariants: $\\mathcal{C}_2[SU(3)]$ and $\\mathcal{C}_3[SU(3)]$\n",
    "- $SU(3)$ non-Casimir invariants: $X_3$, $X_4$\n",
    "\n",
    "This last group can couple and mix multiple occurrences of $L$ in a given $(\\lambda\\mu)$, i.e., it can distinguish between different $K$ labels and thus will be helpful in raising the degeneracy. First I will specify the algebraic forms of $X_3$ and $X_4$ operators. For $X_3$ the three-body operator options are:\n",
    "\n",
    "- $X_3$: $\\big[Q^2\\times L^1 \\big]^1\\cdot L^1$, $\\big[L^1\\times L^1\\big]^1\\cdot L^1$, $\\big[Q^2\\times Q^2\\big]^1\\cdot L^1$, $\\big[Q^2\\times Q^2\\big]^2\\cdot Q^2$\n",
    "\n",
    "The option $\\big[L^1\\times L^1\\big]^1\\cdot L^1$ should be discarded since it is an operator wholely in the $SO(3)$ space. Henceforth the philosophy to follow is to keep the lowest rank in each coupling, thus the three-body operator will be \n",
    "\n",
    "$$X_3 = \\big[L^1\\times L^1\\big]^1\\cdot L^1 = \\sqrt{3}\\big[\\big[Q^2\\times L^1 \\big]^1\\times L^1\\big ]_0^0$$\n",
    "\n",
    "Similarly for $X_4$\n",
    "\n",
    "$$X_4 =  \\big[Q^2\\times L^1 \\big]^1\\cdot \\big[Q^2\\times L^1 \\big]^1= \\sqrt{3}\\big[\\big[Q^2\\times L^1 \\big]^1\\times \\big[Q^2\\times L^1 \\big]^1\\big ]_0^0$$\n",
    "\n",
    "\n",
    "Recall that $S^L\\cdot T^L = (-1)^L\\sqrt{2L+1}[T^L\\times C^L]_0^0$, where the phase factor has been omitted in the equations above. \n",
    "\n",
    "\n",
    "It is a common characteristic of the mathematical theories of physics that the lowest order should account for the main aspects of the physical system, while the higher orders for the details. Following this principle the proposed Hamiltonian is\n",
    "\n",
    "$$H_{int} = aL^2+bX_3+cX_4$$\n",
    "\n",
    "where $a$, $b$, and $c$ are parameters to be fit with experimental data. One expects that $|a|>|b|>|c|$. This Hamiltonian has an even deeper meaning since it was shown by Y. Leschber and J. Draayer that one can transform the rotor Hamiltonian $H_{rot} = \\sum^3_{i=1}\\frac{I^2_i}{2\\mathcal{I_i}}$ exactly into $H_{int}$ where $a$, $b$, and $c$ relate to the moments of inertia of the nuclei. \n",
    "\n",
    "\n"
   ]
  },
  {
   "cell_type": "markdown",
   "id": "ab0b1d0d",
   "metadata": {},
   "source": [
    "## Matrix elements\n",
    "\n",
    "Using the relation $Q\\cdot Q = 4\\mathcal{C}_2[SU(3)]-3L^2$ one can obtain the $SO(3)\\supset SO(2)$ reduced matrix elements after application of $SU(3)\\supset SO(3)$ Wigner-Eckart theorem as\n",
    "\n",
    "$$ \\langle(\\lambda\\mu)KL|| L^{(11)11} || (\\lambda\\mu)K'L'\\rangle = 2\\delta_{KK'}\\delta_{LL'}(-1)^{\\phi}\\sqrt{\\frac{\\mathcal{C}_2(\\lambda,\\mu)}{3}}\\langle(\\lambda\\mu)KL,(11)11||(\\lambda\\mu)KL\\rangle _{\\rho = 1} = \\sqrt{L(L+1)}$$\n",
    "\n",
    "\n",
    "$$ \\langle(\\lambda\\mu)KL|| Q^{(11)12} || (\\lambda\\mu)K'L'\\rangle = 2(-1)^{\\phi}\\sqrt{\\mathcal{C}_2(\\lambda,\\mu)}\\langle(\\lambda\\mu)K'L',(11)12||(\\lambda\\mu)KL\\rangle _{\\rho = 1}$$\n",
    "\n",
    "where $\\phi=0, 1$ if $\\mu=0$, $\\mu\\ne 0$ respectively, the Casimir eigenvalue $\\mathcal{C}_2(\\lambda,\\mu) = \\frac{2}{3}(\\lambda^2 + \\mu^2+\\lambda\\mu+3(\\lambda+\\mu))$ and $\\langle-,-||-\\rangle$ are the $SU(3)\\supset SO(3)$ Wigner coefficients which can be computed using the library su3lib. Details about the labels (11)11 and (11)12 can be found on the thesis in the references. Notice that the operator $L^{(11)11}$ cannot mix any $(\\lambda\\mu)KL$ label while $Q^{(11)12}$ only mixes $KL$.\n",
    "\n",
    "These matrix elements allow to compute the corresponding matrix elements for $X_3$ and $X_4$ for different labels $K$ by means of operator uncoupling and Wigner-Eckart theorem as\n",
    "\n",
    "$$ \\langle(\\lambda\\mu)KLM| X_3 |(\\lambda\\mu)K'LM\\rangle = 2\\sqrt{3}(-1)^{\\phi}L(L+1) \\begin{Bmatrix}\n",
    "1 & 1 & 2\\\\\n",
    "L & L & L\n",
    "\\end{Bmatrix} \\sqrt{\\mathcal{C}_2(\\lambda,\\mu)}\\langle(\\lambda\\mu)K'L,(11)12||(\\lambda\\mu)KL\\rangle _{\\rho = 1}\n",
    "$$\n",
    "\n",
    "\n",
    "\n",
    "$$\\begin{aligned} \\langle(\\lambda\\mu)KLM| X_4 |(\\lambda\\mu)K'LM\\rangle =    12L(L+1)\\mathcal{C}_2(\\lambda,\\mu)\\sum_{K'',L''}(-1)^{L+L''+1}\\begin{Bmatrix}\n",
    "1 & 2 & 1\\\\\n",
    "L'' & L & L\n",
    "\\end{Bmatrix}^2 \\langle(\\lambda\\mu)K''L'',(11)12||(\\lambda\\mu)KL\\rangle _{\\rho = 1} \\\\ \\times\\langle(\\lambda\\mu)K'L,(11)12||(\\lambda\\mu)K''L''\\rangle _{\\rho = 1} \n",
    "\\end{aligned}\n",
    "$$\n",
    "\n",
    "Notice that since they are scalars in $SO(3)$ they do not mix labels $L$ or $M$. Now one can compute the matrix elements of the Hamiltonian $H_{int}$ which requires to be diagonalized in order to obtain the energy eigenvalues.\n"
   ]
  },
  {
   "cell_type": "markdown",
   "id": "75172e07",
   "metadata": {},
   "source": [
    "## Hamiltonian diagonalization\n",
    "\n",
    "The states to be considered for the fit with $^{24}$Mg are those assigned to the bands of the ground state $|(8,4)\\hspace{1.5mm}K=0,2\\hspace{1.5mm}L M\\rangle$. Thus the matrix elements to be computed are the diagonal $\\langle(8,4)\\hspace{1.5mm}K=0\\hspace{1.5mm}L\\hspace{1.5mm}M|H_{int}|(8,4)\\hspace{1.5mm}K=0\\hspace{1.5mm}L\\hspace{1.5mm}M\\rangle$, $\\langle(8,4)\\hspace{1.5mm}K=2\\hspace{1.5mm}L\\hspace{1.5mm}M|H_{int}|(8,4)\\hspace{1.5mm}K=2\\hspace{1.5mm}L\\hspace{1.5mm}M\\rangle$ and non-diagonal $\\langle(8,4)\\hspace{1.5mm}K=0\\hspace{1.5mm}L\\hspace{1.5mm}M|H_{int}|(8,4)\\hspace{1.5mm}K=2\\hspace{1.5mm}L\\hspace{1.5mm}M\\rangle$. All the $SU(3)$ coefficients are in the file SU3coeffs.txt which were obtained from the program su3lib. Since there is no $M$ dependence, what I will actually compute are reduced matrix elements $\\langle(8,4)\\hspace{1.5mm}K\\hspace{1.5mm}L||H_{int}||(8,4)\\hspace{1.5mm}K\\hspace{1.5mm}L\\rangle$."
   ]
  },
  {
   "cell_type": "code",
   "execution_count": 41,
   "id": "bcb2aca7",
   "metadata": {},
   "outputs": [],
   "source": [
    "import numpy as np\n",
    "import re\n",
    "\n",
    "# Operators of the Hamiltonian\n",
    "def C2(l,m):\n",
    "    return (l**2 + m**2 + l*m + 3.0*(l+m))\n",
    "\n",
    "def LL(L):\n",
    "    return L*(L+1.0)"
   ]
  },
  {
   "cell_type": "code",
   "execution_count": 42,
   "id": "379c6328",
   "metadata": {},
   "outputs": [],
   "source": [
    "# Reading of coefficients values\n",
    "with open('SU3coeffs.txt') as f:\n",
    "    lines = f.readlines()\n",
    "    \n",
    "values = [re.sub(\"\\s+\", \",\", line.strip()).split(',') for line in lines][2:]\n",
    "\n",
    "for line in values:\n",
    "    for i in range(len(line)):\n",
    "        line[i] = float(line[i])\n",
    "        \n",
    "# values is a list of lists with format [K1, L1, 1, 2, K2, L2, Coeff1, Coeff2]\n",
    "# Notice that values K = 1,2,3 in the program correspond to the appearances of a label L. For example, K=0, L=2 \n",
    "# will correspond to K=1, L=2 in the program, K=2, L=2 correspond to K=2, L=2, K=4, L=4 correspond to K=3, L=4 and\n",
    "# K=2, L=3 correspond to K=1, L=3."
   ]
  },
  {
   "cell_type": "code",
   "execution_count": 43,
   "id": "0207f207",
   "metadata": {},
   "outputs": [],
   "source": [
    "# sympy method for computing 6j symbols. Mathematica has its own libraries as well.\n",
    "from sympy.physics.wigner import wigner_6j"
   ]
  },
  {
   "cell_type": "code",
   "execution_count": 44,
   "id": "43244277",
   "metadata": {},
   "outputs": [],
   "source": [
    "# Array for saving the states [K,L]\n",
    "states = [[0,0],[0,2],[0,4],[0,6],[0,8],[2,2],[2,3],[2,4],[2,5],[2,6],[2,7],[2,8],[2,9],[2,10]]\n",
    "allstates = [[0,0],[0,2],[0,4],[0,6],[0,8],[2,2],[2,3],[2,4],[2,5],[2,6],[2,7],[2,8],[2,9],[2,10], \n",
    "              [4,4],[4,5],[4,6],[4,7],[4,8],[4,9],[4,10],[4,11],[4,12]]\n",
    "\n",
    "# Function to alter the arrays in the format of the program\n",
    "def Format(states):\n",
    "    \n",
    "    arrayFormat = []\n",
    "    \n",
    "    for i in range(len(states)):\n",
    "        occ = 1\n",
    "        for j in range(i):\n",
    "            if states[i][1] == states[j][1]:\n",
    "                occ += 1\n",
    "        arrayFormat.append([occ,states[i][1]])\n",
    "    \n",
    "    return arrayFormat\n",
    "  \n",
    "# List of states in the format of su3lib\n",
    "statesFormat = Format(states)\n",
    "allstatesFormat = Format(allstates)"
   ]
  },
  {
   "cell_type": "code",
   "execution_count": 66,
   "id": "8d8a3be5",
   "metadata": {},
   "outputs": [],
   "source": [
    "# Function to retrieve the coefficient from values array\n",
    "def findCoeff(K1,L1,K2,L2):\n",
    "    \n",
    "    for line in values:\n",
    "        if (line[0] == K1 and line[1] == L1 and line[4] == K2 and line[5] == L2):\n",
    "            return line[6]  # always returns the rho = 1 multiplicity\n",
    "        \n",
    "    return 0\n",
    "\n",
    "# Matrix elements of L²\n",
    "def L2Matrix(K1,L1,K2,L2):\n",
    "    \n",
    "    if (K1==K2 and L1==L2):\n",
    "        return LL(L1)\n",
    "    else:\n",
    "        return 0\n",
    "    \n",
    "# Matrix elements of X3\n",
    "def X3Matrix(K1,L1,K2,L2):\n",
    "    \n",
    "    if (L1==L2):\n",
    "        \n",
    "        coeff = findCoeff(K2,L2,K1,L1)  # The arguments are exchanged due to Wigner-Eckart theorem\n",
    "        \n",
    "        return 2*np.sqrt(3)*(-1)*LL(L1)*float(wigner_6j(1,1,2,L1,L1,L1))*np.sqrt(C2(8,4))*coeff\n",
    "        \n",
    "    else:\n",
    "        return 0\n",
    "    \n",
    "# Matrix elements of X4\n",
    "def X4Matrix(K1,L1,K2,L2):\n",
    "    \n",
    "    if (L1==L2):\n",
    "        \n",
    "        sumatory = 0\n",
    "        \n",
    "        for K3 in range(1,4):\n",
    "            for L3 in range(0,13):\n",
    "                \n",
    "                coeff1 = findCoeff(K3,L3,K1,L1)\n",
    "                coeff2 = findCoeff(K2,L2,K3,L3)\n",
    "                W6j2 = float(wigner_6j(1,2,1,L3,L1,L1))**2\n",
    "                \n",
    "                sumatory += (-1)**(L1+L3+1)*W6j2*coeff1*coeff2\n",
    "                \n",
    "        return 12*LL(L1)*C2(8,4)*sumatory\n",
    "    \n",
    "        \n",
    "    else:\n",
    "        return 0\n"
   ]
  },
  {
   "cell_type": "code",
   "execution_count": 67,
   "id": "f12a9d55",
   "metadata": {},
   "outputs": [],
   "source": [
    "# 2D Arrays to store the matrix elements as matrices\n",
    "matrixL2 = np.zeros((14, 14))\n",
    "matrixX3 = np.zeros((14, 14))\n",
    "matrixX4 = np.zeros((14, 14))"
   ]
  },
  {
   "cell_type": "code",
   "execution_count": 68,
   "id": "4c3e0528",
   "metadata": {},
   "outputs": [],
   "source": [
    "# Calculation of matrix elements \n",
    "for i in range(len(states)):\n",
    "    for j in range(len(states)):\n",
    "        matrixL2[i][j] = L2Matrix(statesFormat[i][0], statesFormat[i][1], statesFormat[j][0], statesFormat[j][1])\n",
    "        matrixX3[i][j] = X3Matrix(statesFormat[i][0], statesFormat[i][1], statesFormat[j][0], statesFormat[j][1])\n",
    "        matrixX4[i][j] = X4Matrix(statesFormat[i][0], statesFormat[i][1], statesFormat[j][0], statesFormat[j][1])"
   ]
  },
  {
   "cell_type": "code",
   "execution_count": 70,
   "id": "312645e5",
   "metadata": {},
   "outputs": [],
   "source": [
    "# Prints matrices in latex format\n",
    "from sympy import Matrix, print_latex\n",
    "SympyL2 = Matrix(matrixL2)\n",
    "SympyX3 = Matrix(matrixX3.round(decimals=2))\n",
    "SympyX4 = Matrix(matrixX4.round(decimals=2))\n",
    "#print_latex(SympyL2)\n",
    "#print_latex(SympyX3)\n",
    "#print_latex(SympyX4)"
   ]
  },
  {
   "cell_type": "markdown",
   "id": "6fced319",
   "metadata": {},
   "source": [
    "This results in the Hamiltonian matrix form\n",
    "\n",
    "$$H_{int}= a\\left[\\begin{array}{cccccccccccccc}0 & 0 & 0 & 0 & 0 & 0 & 0 & 0 & 0 & 0 & 0 & 0 & 0 & 0\\\\0 & 6.0 & 0 & 0 & 0 & 0 & 0 & 0 & 0 & 0 & 0 & 0 & 0 & 0\\\\0 & 0 & 20.0 & 0 & 0 & 0 & 0 & 0 & 0 & 0 & 0 & 0 & 0 & 0\\\\0 & 0 & 0 & 42.0 & 0 & 0 & 0 & 0 & 0 & 0 & 0 & 0 & 0 & 0\\\\0 & 0 & 0 & 0 & 72.0 & 0 & 0 & 0 & 0 & 0 & 0 & 0 & 0 & 0\\\\0 & 0 & 0 & 0 & 0 & 6.0 & 0 & 0 & 0 & 0 & 0 & 0 & 0 & 0\\\\0 & 0 & 0 & 0 & 0 & 0 & 12.0 & 0 & 0 & 0 & 0 & 0 & 0 & 0\\\\0 & 0 & 0 & 0 & 0 & 0 & 0 & 20.0 & 0 & 0 & 0 & 0 & 0 & 0\\\\0 & 0 & 0 & 0 & 0 & 0 & 0 & 0 & 30.0 & 0 & 0 & 0 & 0 & 0\\\\0 & 0 & 0 & 0 & 0 & 0 & 0 & 0 & 0 & 42.0 & 0 & 0 & 0 & 0\\\\0 & 0 & 0 & 0 & 0 & 0 & 0 & 0 & 0 & 0 & 56.0 & 0 & 0 & 0\\\\0 & 0 & 0 & 0 & 0 & 0 & 0 & 0 & 0 & 0 & 0 & 72.0 & 0 & 0\\\\0 & 0 & 0 & 0 & 0 & 0 & 0 & 0 & 0 & 0 & 0 & 0 & 90.0 & 0\\\\0 & 0 & 0 & 0 & 0 & 0 & 0 & 0 & 0 & 0 & 0 & 0 & 0 & 110.0\\end{array}\\right] +b\\left[\\begin{array}{cccccccccccccc}0 & 0 & 0 & 0 & 0 & 0 & 0 & 0 & 0 & 0 & 0 & 0 & 0 & 0\\\\0 & -19.25 & 0 & 0 & 0 & 7.89 & 0 & 0 & 0 & 0 & 0 & 0 & 0 & 0\\\\0 & 0 & -45.3 & 0 & 0 & 0 & 0 & 22.7 & 0 & 0 & 0 & 0 & 0 & 0\\\\0 & 0 & 0 & -71.1 & 0 & 0 & 0 & 0 & 0 & 39.48 & 0 & 0 & 0 & 0\\\\0 & 0 & 0 & 0 & -86.88 & 0 & 0 & 0 & 0 & 0 & 0 & 51.49 & 0 & 0\\\\0 & 7.89 & 0 & 0 & 0 & 19.25 & 0 & 0 & 0 & 0 & 0 & 0 & 0 & 0\\\\0 & 0 & 0 & 0 & 0 & 0 & 0 & 0 & 0 & 0 & 0 & 0 & 0 & 0\\\\0 & 0 & 22.7 & 0 & 0 & 0 & 0 & -22.2 & 0 & 0 & 0 & 0 & 0 & 0\\\\0 & 0 & 0 & 0 & 0 & 0 & 0 & 0 & -38.05 & 0 & 0 & 0 & 0 & 0\\\\0 & 0 & 0 & 39.48 & 0 & 0 & 0 & 0 & 0 & -70.52 & 0 & 0 & 0 & 0\\\\0 & 0 & 0 & 0 & 0 & 0 & 0 & 0 & 0 & 0 & -75.35 & 0 & 0 & 0\\\\0 & 0 & 0 & 0 & 51.49 & 0 & 0 & 0 & 0 & 0 & 0 & -129.75 & 0 & 0\\\\0 & 0 & 0 & 0 & 0 & 0 & 0 & 0 & 0 & 0 & 0 & 0 & -105.13 & 0\\\\0 & 0 & 0 & 0 & 0 & 0 & 0 & 0 & 0 & 0 & 0 & 0 & 0 & -66.41\\end{array}\\right]+c\\left[\\begin{array}{cccccccccccccc}0 & 0 & 0 & 0 & 0 & 0 & 0 & 0 & 0 & 0 & 0 & 0 & 0 & 0\\\\0 & -85.44 & 0 & 0 & 0 & 37.71 & 0 & 0 & 0 & 0 & 0 & 0 & 0 & 0\\\\0 & 0 & -151.45 & 0 & 0 & 0 & 0 & 88.99 & 0 & 0 & 0 & 0 & 0 & 0\\\\0 & 0 & 0 & -193.47 & 0 & 0 & 0 & 0 & 0 & 133.6 & 0 & 0 & 0 & 0\\\\0 & 0 & 0 & 0 & -194.16 & 0 & 0 & 0 & 0 & 0 & 0 & 154.68 & 0 & 0\\\\0 & 37.71 & 0 & 0 & 0 & -178.88 & 0 & 0 & 0 & 0 & 0 & 0 & 0 & 0\\\\0 & 0 & 0 & 0 & 0 & 0 & -196.76 & 0 & 0 & 0 & 0 & 0 & 0 & 0\\\\0 & 0 & 88.99 & 0 & 0 & 0 & 0 & -224.79 & 0 & 0 & 0 & 0 & 0 & 0\\\\0 & 0 & 0 & 0 & 0 & 0 & 0 & 0 & -232.8 & 0 & 0 & 0 & 0 & 0\\\\0 & 0 & 0 & 133.6 & 0 & 0 & 0 & 0 & 0 & -299.13 & 0 & 0 & 0 & 0\\\\0 & 0 & 0 & 0 & 0 & 0 & 0 & 0 & 0 & 0 & -273.74 & 0 & 0 & 0\\\\0 & 0 & 0 & 0 & 154.68 & 0 & 0 & 0 & 0 & 0 & 0 & -405.22 & 0 & 0\\\\0 & 0 & 0 & 0 & 0 & 0 & 0 & 0 & 0 & 0 & 0 & 0 & -299.37 & 0\\\\0 & 0 & 0 & 0 & 0 & 0 & 0 & 0 & 0 & 0 & 0 & 0 & 0 & -111.39\\end{array}\\right]$$"
   ]
  },
  {
   "cell_type": "code",
   "execution_count": null,
   "id": "46b90077",
   "metadata": {},
   "outputs": [],
   "source": []
  },
  {
   "cell_type": "code",
   "execution_count": null,
   "id": "5bdad6e8",
   "metadata": {},
   "outputs": [],
   "source": []
  },
  {
   "cell_type": "code",
   "execution_count": null,
   "id": "d351d7c2",
   "metadata": {},
   "outputs": [],
   "source": []
  },
  {
   "cell_type": "code",
   "execution_count": null,
   "id": "40312d20",
   "metadata": {},
   "outputs": [],
   "source": []
  },
  {
   "cell_type": "code",
   "execution_count": null,
   "id": "efbb37c8",
   "metadata": {},
   "outputs": [],
   "source": []
  },
  {
   "cell_type": "code",
   "execution_count": null,
   "id": "a7a6be9e",
   "metadata": {},
   "outputs": [],
   "source": []
  },
  {
   "cell_type": "code",
   "execution_count": null,
   "id": "754a8ab7",
   "metadata": {},
   "outputs": [],
   "source": []
  },
  {
   "cell_type": "code",
   "execution_count": null,
   "id": "690e9483",
   "metadata": {},
   "outputs": [],
   "source": []
  },
  {
   "cell_type": "markdown",
   "id": "597c9330",
   "metadata": {},
   "source": [
    "# References\n",
    "\n",
    "- J. Draayer and G. Rosensteel, “U(3) → r(3) integrity-basis spectroscopy,” Nuclear Physics\n",
    "A, vol. 439, no. 1, pp. 61–85, 1985. [Online]. Available: https://www.sciencedirect.com/\n",
    "science/article/pii/037594748590209X\n",
    "\n",
    "- Y. Leschber and J. Draayer, “Algebraic realization of rotational dynamics,” Physics Letters\n",
    "B, vol. 190, no. 1, pp. 1–6, 1987. [Online]. Available: https://www.sciencedirect.com/\n",
    "science/article/pii/037026938790829X\n",
    "\n",
    "- T. Dytrych, D. Langr, and J. P. Draayer, “su3lib,” 2011. [Online]. Available:\n",
    "https://gitlab.com/tdytrych/su3lib\n",
    "\n",
    "- Restrepo-Giraldo A, \"Structure of Heavy Nuclei Based on Nucleon Quartets\", ArXiv, 2023. Available: \n",
    "https://doi.org/10.48550/arXiv.2306.11996"
   ]
  }
 ],
 "metadata": {
  "kernelspec": {
   "display_name": "Python 3 (ipykernel)",
   "language": "python",
   "name": "python3"
  },
  "language_info": {
   "codemirror_mode": {
    "name": "ipython",
    "version": 3
   },
   "file_extension": ".py",
   "mimetype": "text/x-python",
   "name": "python",
   "nbconvert_exporter": "python",
   "pygments_lexer": "ipython3",
   "version": "3.7.6"
  }
 },
 "nbformat": 4,
 "nbformat_minor": 5
}
